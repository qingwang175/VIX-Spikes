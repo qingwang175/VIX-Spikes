{
 "cells": [
  {
   "cell_type": "code",
   "execution_count": 1,
   "metadata": {},
   "outputs": [
    {
     "name": "stderr",
     "output_type": "stream",
     "text": [
      "/Users/Valcer/anaconda/lib/python3.6/site-packages/sklearn/cross_validation.py:44: DeprecationWarning: This module was deprecated in version 0.18 in favor of the model_selection module into which all the refactored classes and functions are moved. Also note that the interface of the new CV iterators are different from that of this module. This module will be removed in 0.20.\n",
      "  \"This module will be removed in 0.20.\", DeprecationWarning)\n"
     ]
    }
   ],
   "source": [
    "# imports\n",
    "import os\n",
    "import pandas as pd\n",
    "import numpy as np\n",
    "import itertools\n",
    "\n",
    "from xgboost.sklearn import XGBClassifier\n",
    "from sklearn.ensemble import RandomForestClassifier\n",
    "from sklearn.svm import SVC\n",
    "\n",
    "from sklearn.model_selection import StratifiedKFold\n",
    "from sklearn.model_selection import train_test_split\n",
    "from sklearn import metrics\n",
    "from sklearn.model_selection import GridSearchCV\n",
    "from sklearn.metrics import accuracy_score\n",
    "from sklearn.metrics import confusion_matrix\n",
    "\n",
    "import pylab as pl\n",
    "import seaborn as sns\n",
    "import matplotlib.pyplot as plt\n",
    "import time\n",
    "import datetime\n",
    "\n",
    "%matplotlib inline"
   ]
  },
  {
   "cell_type": "markdown",
   "metadata": {},
   "source": [
    "### Load Data"
   ]
  },
  {
   "cell_type": "code",
   "execution_count": 2,
   "metadata": {
    "collapsed": true
   },
   "outputs": [],
   "source": [
    "# load data\n",
    "data = pd.read_csv('VIX-Data-with-sentiment.csv')"
   ]
  },
  {
   "cell_type": "code",
   "execution_count": 3,
   "metadata": {},
   "outputs": [
    {
     "data": {
      "text/html": [
       "<div>\n",
       "<style>\n",
       "    .dataframe thead tr:only-child th {\n",
       "        text-align: right;\n",
       "    }\n",
       "\n",
       "    .dataframe thead th {\n",
       "        text-align: left;\n",
       "    }\n",
       "\n",
       "    .dataframe tbody tr th {\n",
       "        vertical-align: top;\n",
       "    }\n",
       "</style>\n",
       "<table border=\"1\" class=\"dataframe\">\n",
       "  <thead>\n",
       "    <tr style=\"text-align: right;\">\n",
       "      <th></th>\n",
       "      <th>Date</th>\n",
       "      <th>XIV</th>\n",
       "      <th>SPX</th>\n",
       "      <th>10-Day-Rank</th>\n",
       "      <th>50-Day-Rank</th>\n",
       "      <th>10-Day-Range</th>\n",
       "      <th>50-Day-Range</th>\n",
       "      <th>Percent-Change</th>\n",
       "      <th>Volume</th>\n",
       "      <th>Vol_30D</th>\n",
       "      <th>...</th>\n",
       "      <th>Vix-Close</th>\n",
       "      <th>VVIX</th>\n",
       "      <th>UX1</th>\n",
       "      <th>UX2</th>\n",
       "      <th>Contango</th>\n",
       "      <th>Futures-Percent</th>\n",
       "      <th>compound</th>\n",
       "      <th>neg</th>\n",
       "      <th>pos</th>\n",
       "      <th>VIX-Spike</th>\n",
       "    </tr>\n",
       "  </thead>\n",
       "  <tbody>\n",
       "    <tr>\n",
       "      <th>0</th>\n",
       "      <td>1/3/11</td>\n",
       "      <td>12.380</td>\n",
       "      <td>1257.62</td>\n",
       "      <td>4.0</td>\n",
       "      <td>4.0</td>\n",
       "      <td>13.68</td>\n",
       "      <td>81.11</td>\n",
       "      <td>1.13</td>\n",
       "      <td>863689088.0</td>\n",
       "      <td>11.21</td>\n",
       "      <td>...</td>\n",
       "      <td>17.94</td>\n",
       "      <td>86.36</td>\n",
       "      <td>19.40</td>\n",
       "      <td>21.25</td>\n",
       "      <td>1.0</td>\n",
       "      <td>0.095361</td>\n",
       "      <td>0.288014</td>\n",
       "      <td>0.058143</td>\n",
       "      <td>0.197286</td>\n",
       "      <td>0</td>\n",
       "    </tr>\n",
       "    <tr>\n",
       "      <th>1</th>\n",
       "      <td>1/4/11</td>\n",
       "      <td>12.135</td>\n",
       "      <td>1272.95</td>\n",
       "      <td>1.0</td>\n",
       "      <td>1.0</td>\n",
       "      <td>23.52</td>\n",
       "      <td>94.62</td>\n",
       "      <td>-0.13</td>\n",
       "      <td>836051392.0</td>\n",
       "      <td>11.20</td>\n",
       "      <td>...</td>\n",
       "      <td>17.34</td>\n",
       "      <td>84.80</td>\n",
       "      <td>19.15</td>\n",
       "      <td>21.20</td>\n",
       "      <td>1.0</td>\n",
       "      <td>0.107050</td>\n",
       "      <td>0.203437</td>\n",
       "      <td>0.096000</td>\n",
       "      <td>0.175625</td>\n",
       "      <td>0</td>\n",
       "    </tr>\n",
       "    <tr>\n",
       "      <th>2</th>\n",
       "      <td>1/5/11</td>\n",
       "      <td>12.599</td>\n",
       "      <td>1268.78</td>\n",
       "      <td>2.0</td>\n",
       "      <td>2.0</td>\n",
       "      <td>18.29</td>\n",
       "      <td>94.62</td>\n",
       "      <td>0.50</td>\n",
       "      <td>817246848.0</td>\n",
       "      <td>10.00</td>\n",
       "      <td>...</td>\n",
       "      <td>17.81</td>\n",
       "      <td>85.25</td>\n",
       "      <td>19.15</td>\n",
       "      <td>21.40</td>\n",
       "      <td>1.0</td>\n",
       "      <td>0.117493</td>\n",
       "      <td>0.239340</td>\n",
       "      <td>0.099500</td>\n",
       "      <td>0.231400</td>\n",
       "      <td>1</td>\n",
       "    </tr>\n",
       "    <tr>\n",
       "      <th>3</th>\n",
       "      <td>1/6/11</td>\n",
       "      <td>12.526</td>\n",
       "      <td>1276.29</td>\n",
       "      <td>1.0</td>\n",
       "      <td>1.0</td>\n",
       "      <td>21.63</td>\n",
       "      <td>97.96</td>\n",
       "      <td>-0.21</td>\n",
       "      <td>888521856.0</td>\n",
       "      <td>9.36</td>\n",
       "      <td>...</td>\n",
       "      <td>16.80</td>\n",
       "      <td>84.70</td>\n",
       "      <td>18.55</td>\n",
       "      <td>20.65</td>\n",
       "      <td>1.0</td>\n",
       "      <td>0.113208</td>\n",
       "      <td>-0.000964</td>\n",
       "      <td>0.094727</td>\n",
       "      <td>0.099727</td>\n",
       "      <td>1</td>\n",
       "    </tr>\n",
       "    <tr>\n",
       "      <th>4</th>\n",
       "      <td>1/7/11</td>\n",
       "      <td>12.508</td>\n",
       "      <td>1274.41</td>\n",
       "      <td>2.0</td>\n",
       "      <td>2.0</td>\n",
       "      <td>21.63</td>\n",
       "      <td>97.96</td>\n",
       "      <td>-0.18</td>\n",
       "      <td>864579584.0</td>\n",
       "      <td>8.97</td>\n",
       "      <td>...</td>\n",
       "      <td>17.31</td>\n",
       "      <td>84.60</td>\n",
       "      <td>18.60</td>\n",
       "      <td>20.85</td>\n",
       "      <td>1.0</td>\n",
       "      <td>0.120968</td>\n",
       "      <td>0.133800</td>\n",
       "      <td>0.075556</td>\n",
       "      <td>0.175889</td>\n",
       "      <td>0</td>\n",
       "    </tr>\n",
       "  </tbody>\n",
       "</table>\n",
       "<p>5 rows × 25 columns</p>\n",
       "</div>"
      ],
      "text/plain": [
       "     Date     XIV      SPX  10-Day-Rank  50-Day-Rank  10-Day-Range  \\\n",
       "0  1/3/11  12.380  1257.62          4.0          4.0         13.68   \n",
       "1  1/4/11  12.135  1272.95          1.0          1.0         23.52   \n",
       "2  1/5/11  12.599  1268.78          2.0          2.0         18.29   \n",
       "3  1/6/11  12.526  1276.29          1.0          1.0         21.63   \n",
       "4  1/7/11  12.508  1274.41          2.0          2.0         21.63   \n",
       "\n",
       "   50-Day-Range  Percent-Change       Volume  Vol_30D    ...      Vix-Close  \\\n",
       "0         81.11            1.13  863689088.0    11.21    ...          17.94   \n",
       "1         94.62           -0.13  836051392.0    11.20    ...          17.34   \n",
       "2         94.62            0.50  817246848.0    10.00    ...          17.81   \n",
       "3         97.96           -0.21  888521856.0     9.36    ...          16.80   \n",
       "4         97.96           -0.18  864579584.0     8.97    ...          17.31   \n",
       "\n",
       "    VVIX    UX1    UX2  Contango  Futures-Percent  compound       neg  \\\n",
       "0  86.36  19.40  21.25       1.0         0.095361  0.288014  0.058143   \n",
       "1  84.80  19.15  21.20       1.0         0.107050  0.203437  0.096000   \n",
       "2  85.25  19.15  21.40       1.0         0.117493  0.239340  0.099500   \n",
       "3  84.70  18.55  20.65       1.0         0.113208 -0.000964  0.094727   \n",
       "4  84.60  18.60  20.85       1.0         0.120968  0.133800  0.075556   \n",
       "\n",
       "        pos  VIX-Spike  \n",
       "0  0.197286          0  \n",
       "1  0.175625          0  \n",
       "2  0.231400          1  \n",
       "3  0.099727          1  \n",
       "4  0.175889          0  \n",
       "\n",
       "[5 rows x 25 columns]"
      ]
     },
     "execution_count": 3,
     "metadata": {},
     "output_type": "execute_result"
    }
   ],
   "source": [
    "data.head()"
   ]
  },
  {
   "cell_type": "code",
   "execution_count": 4,
   "metadata": {
    "collapsed": true
   },
   "outputs": [],
   "source": [
    "# split data into X\n",
    "X = data[['XIV','SPX','10-Day-Rank','50-Day-Rank','10-Day-Range', \n",
    "          '50-Day-Range', 'Percent-Change','Volume','Vol_30D',\n",
    "          'Impl_vol_50D','Impl_vol_25D','Impl_vol_40D','Impl_vol 75D',\n",
    "          'Vix-Open','VVIX','UX1','UX2','Contango',\n",
    "          'Futures-Percent','compound','neg','pos']]"
   ]
  },
  {
   "cell_type": "code",
   "execution_count": 5,
   "metadata": {},
   "outputs": [
    {
     "data": {
      "text/html": [
       "<div>\n",
       "<style>\n",
       "    .dataframe thead tr:only-child th {\n",
       "        text-align: right;\n",
       "    }\n",
       "\n",
       "    .dataframe thead th {\n",
       "        text-align: left;\n",
       "    }\n",
       "\n",
       "    .dataframe tbody tr th {\n",
       "        vertical-align: top;\n",
       "    }\n",
       "</style>\n",
       "<table border=\"1\" class=\"dataframe\">\n",
       "  <thead>\n",
       "    <tr style=\"text-align: right;\">\n",
       "      <th></th>\n",
       "      <th>XIV</th>\n",
       "      <th>SPX</th>\n",
       "      <th>10-Day-Rank</th>\n",
       "      <th>50-Day-Rank</th>\n",
       "      <th>10-Day-Range</th>\n",
       "      <th>50-Day-Range</th>\n",
       "      <th>Percent-Change</th>\n",
       "      <th>Volume</th>\n",
       "      <th>Vol_30D</th>\n",
       "      <th>Impl_vol_50D</th>\n",
       "      <th>...</th>\n",
       "      <th>Impl_vol 75D</th>\n",
       "      <th>Vix-Open</th>\n",
       "      <th>VVIX</th>\n",
       "      <th>UX1</th>\n",
       "      <th>UX2</th>\n",
       "      <th>Contango</th>\n",
       "      <th>Futures-Percent</th>\n",
       "      <th>compound</th>\n",
       "      <th>neg</th>\n",
       "      <th>pos</th>\n",
       "    </tr>\n",
       "  </thead>\n",
       "  <tbody>\n",
       "    <tr>\n",
       "      <th>0</th>\n",
       "      <td>12.380</td>\n",
       "      <td>1257.62</td>\n",
       "      <td>4.0</td>\n",
       "      <td>4.0</td>\n",
       "      <td>13.68</td>\n",
       "      <td>81.11</td>\n",
       "      <td>1.13</td>\n",
       "      <td>863689088.0</td>\n",
       "      <td>11.21</td>\n",
       "      <td>13.52</td>\n",
       "      <td>...</td>\n",
       "      <td>15.57</td>\n",
       "      <td>17.61</td>\n",
       "      <td>86.36</td>\n",
       "      <td>19.40</td>\n",
       "      <td>21.25</td>\n",
       "      <td>1.0</td>\n",
       "      <td>0.095361</td>\n",
       "      <td>0.288014</td>\n",
       "      <td>0.058143</td>\n",
       "      <td>0.197286</td>\n",
       "    </tr>\n",
       "    <tr>\n",
       "      <th>1</th>\n",
       "      <td>12.135</td>\n",
       "      <td>1272.95</td>\n",
       "      <td>1.0</td>\n",
       "      <td>1.0</td>\n",
       "      <td>23.52</td>\n",
       "      <td>94.62</td>\n",
       "      <td>-0.13</td>\n",
       "      <td>836051392.0</td>\n",
       "      <td>11.20</td>\n",
       "      <td>13.42</td>\n",
       "      <td>...</td>\n",
       "      <td>15.38</td>\n",
       "      <td>17.38</td>\n",
       "      <td>84.80</td>\n",
       "      <td>19.15</td>\n",
       "      <td>21.20</td>\n",
       "      <td>1.0</td>\n",
       "      <td>0.107050</td>\n",
       "      <td>0.203437</td>\n",
       "      <td>0.096000</td>\n",
       "      <td>0.175625</td>\n",
       "    </tr>\n",
       "    <tr>\n",
       "      <th>2</th>\n",
       "      <td>12.599</td>\n",
       "      <td>1268.78</td>\n",
       "      <td>2.0</td>\n",
       "      <td>2.0</td>\n",
       "      <td>18.29</td>\n",
       "      <td>94.62</td>\n",
       "      <td>0.50</td>\n",
       "      <td>817246848.0</td>\n",
       "      <td>10.00</td>\n",
       "      <td>12.65</td>\n",
       "      <td>...</td>\n",
       "      <td>14.41</td>\n",
       "      <td>17.02</td>\n",
       "      <td>85.25</td>\n",
       "      <td>19.15</td>\n",
       "      <td>21.40</td>\n",
       "      <td>1.0</td>\n",
       "      <td>0.117493</td>\n",
       "      <td>0.239340</td>\n",
       "      <td>0.099500</td>\n",
       "      <td>0.231400</td>\n",
       "    </tr>\n",
       "    <tr>\n",
       "      <th>3</th>\n",
       "      <td>12.526</td>\n",
       "      <td>1276.29</td>\n",
       "      <td>1.0</td>\n",
       "      <td>1.0</td>\n",
       "      <td>21.63</td>\n",
       "      <td>97.96</td>\n",
       "      <td>-0.21</td>\n",
       "      <td>888521856.0</td>\n",
       "      <td>9.36</td>\n",
       "      <td>13.44</td>\n",
       "      <td>...</td>\n",
       "      <td>15.29</td>\n",
       "      <td>17.40</td>\n",
       "      <td>84.70</td>\n",
       "      <td>18.55</td>\n",
       "      <td>20.65</td>\n",
       "      <td>1.0</td>\n",
       "      <td>0.113208</td>\n",
       "      <td>-0.000964</td>\n",
       "      <td>0.094727</td>\n",
       "      <td>0.099727</td>\n",
       "    </tr>\n",
       "    <tr>\n",
       "      <th>4</th>\n",
       "      <td>12.508</td>\n",
       "      <td>1274.41</td>\n",
       "      <td>2.0</td>\n",
       "      <td>2.0</td>\n",
       "      <td>21.63</td>\n",
       "      <td>97.96</td>\n",
       "      <td>-0.18</td>\n",
       "      <td>864579584.0</td>\n",
       "      <td>8.97</td>\n",
       "      <td>12.67</td>\n",
       "      <td>...</td>\n",
       "      <td>14.47</td>\n",
       "      <td>17.14</td>\n",
       "      <td>84.60</td>\n",
       "      <td>18.60</td>\n",
       "      <td>20.85</td>\n",
       "      <td>1.0</td>\n",
       "      <td>0.120968</td>\n",
       "      <td>0.133800</td>\n",
       "      <td>0.075556</td>\n",
       "      <td>0.175889</td>\n",
       "    </tr>\n",
       "  </tbody>\n",
       "</table>\n",
       "<p>5 rows × 22 columns</p>\n",
       "</div>"
      ],
      "text/plain": [
       "      XIV      SPX  10-Day-Rank  50-Day-Rank  10-Day-Range  50-Day-Range  \\\n",
       "0  12.380  1257.62          4.0          4.0         13.68         81.11   \n",
       "1  12.135  1272.95          1.0          1.0         23.52         94.62   \n",
       "2  12.599  1268.78          2.0          2.0         18.29         94.62   \n",
       "3  12.526  1276.29          1.0          1.0         21.63         97.96   \n",
       "4  12.508  1274.41          2.0          2.0         21.63         97.96   \n",
       "\n",
       "   Percent-Change       Volume  Vol_30D  Impl_vol_50D    ...     Impl_vol 75D  \\\n",
       "0            1.13  863689088.0    11.21         13.52    ...            15.57   \n",
       "1           -0.13  836051392.0    11.20         13.42    ...            15.38   \n",
       "2            0.50  817246848.0    10.00         12.65    ...            14.41   \n",
       "3           -0.21  888521856.0     9.36         13.44    ...            15.29   \n",
       "4           -0.18  864579584.0     8.97         12.67    ...            14.47   \n",
       "\n",
       "   Vix-Open   VVIX    UX1    UX2  Contango  Futures-Percent  compound  \\\n",
       "0     17.61  86.36  19.40  21.25       1.0         0.095361  0.288014   \n",
       "1     17.38  84.80  19.15  21.20       1.0         0.107050  0.203437   \n",
       "2     17.02  85.25  19.15  21.40       1.0         0.117493  0.239340   \n",
       "3     17.40  84.70  18.55  20.65       1.0         0.113208 -0.000964   \n",
       "4     17.14  84.60  18.60  20.85       1.0         0.120968  0.133800   \n",
       "\n",
       "        neg       pos  \n",
       "0  0.058143  0.197286  \n",
       "1  0.096000  0.175625  \n",
       "2  0.099500  0.231400  \n",
       "3  0.094727  0.099727  \n",
       "4  0.075556  0.175889  \n",
       "\n",
       "[5 rows x 22 columns]"
      ]
     },
     "execution_count": 5,
     "metadata": {},
     "output_type": "execute_result"
    }
   ],
   "source": [
    "X.head()"
   ]
  },
  {
   "cell_type": "code",
   "execution_count": 6,
   "metadata": {
    "collapsed": true
   },
   "outputs": [],
   "source": [
    "# split data into y\n",
    "y = data[['VIX-Spike']]"
   ]
  },
  {
   "cell_type": "code",
   "execution_count": 7,
   "metadata": {},
   "outputs": [
    {
     "data": {
      "text/html": [
       "<div>\n",
       "<style>\n",
       "    .dataframe thead tr:only-child th {\n",
       "        text-align: right;\n",
       "    }\n",
       "\n",
       "    .dataframe thead th {\n",
       "        text-align: left;\n",
       "    }\n",
       "\n",
       "    .dataframe tbody tr th {\n",
       "        vertical-align: top;\n",
       "    }\n",
       "</style>\n",
       "<table border=\"1\" class=\"dataframe\">\n",
       "  <thead>\n",
       "    <tr style=\"text-align: right;\">\n",
       "      <th></th>\n",
       "      <th>VIX-Spike</th>\n",
       "    </tr>\n",
       "  </thead>\n",
       "  <tbody>\n",
       "    <tr>\n",
       "      <th>0</th>\n",
       "      <td>0</td>\n",
       "    </tr>\n",
       "    <tr>\n",
       "      <th>1</th>\n",
       "      <td>0</td>\n",
       "    </tr>\n",
       "    <tr>\n",
       "      <th>2</th>\n",
       "      <td>1</td>\n",
       "    </tr>\n",
       "    <tr>\n",
       "      <th>3</th>\n",
       "      <td>1</td>\n",
       "    </tr>\n",
       "    <tr>\n",
       "      <th>4</th>\n",
       "      <td>0</td>\n",
       "    </tr>\n",
       "  </tbody>\n",
       "</table>\n",
       "</div>"
      ],
      "text/plain": [
       "   VIX-Spike\n",
       "0          0\n",
       "1          0\n",
       "2          1\n",
       "3          1\n",
       "4          0"
      ]
     },
     "execution_count": 7,
     "metadata": {},
     "output_type": "execute_result"
    }
   ],
   "source": [
    "y.head()"
   ]
  },
  {
   "cell_type": "markdown",
   "metadata": {},
   "source": [
    "### Train/Test Split"
   ]
  },
  {
   "cell_type": "code",
   "execution_count": 8,
   "metadata": {
    "collapsed": true
   },
   "outputs": [],
   "source": [
    "# split into train and test\n",
    "X_train_split = X[:1368]\n",
    "X_test_split = X[1368:]\n",
    "y_train_split = y[:1368]\n",
    "y_test_split = y[1368:]"
   ]
  },
  {
   "cell_type": "code",
   "execution_count": 9,
   "metadata": {},
   "outputs": [
    {
     "data": {
      "text/html": [
       "<div>\n",
       "<style>\n",
       "    .dataframe thead tr:only-child th {\n",
       "        text-align: right;\n",
       "    }\n",
       "\n",
       "    .dataframe thead th {\n",
       "        text-align: left;\n",
       "    }\n",
       "\n",
       "    .dataframe tbody tr th {\n",
       "        vertical-align: top;\n",
       "    }\n",
       "</style>\n",
       "<table border=\"1\" class=\"dataframe\">\n",
       "  <thead>\n",
       "    <tr style=\"text-align: right;\">\n",
       "      <th></th>\n",
       "      <th>XIV</th>\n",
       "      <th>SPX</th>\n",
       "      <th>10-Day-Rank</th>\n",
       "      <th>50-Day-Rank</th>\n",
       "      <th>10-Day-Range</th>\n",
       "      <th>50-Day-Range</th>\n",
       "      <th>Percent-Change</th>\n",
       "      <th>Volume</th>\n",
       "      <th>Vol_30D</th>\n",
       "      <th>Impl_vol_50D</th>\n",
       "      <th>...</th>\n",
       "      <th>Impl_vol 75D</th>\n",
       "      <th>Vix-Open</th>\n",
       "      <th>VVIX</th>\n",
       "      <th>UX1</th>\n",
       "      <th>UX2</th>\n",
       "      <th>Contango</th>\n",
       "      <th>Futures-Percent</th>\n",
       "      <th>compound</th>\n",
       "      <th>neg</th>\n",
       "      <th>pos</th>\n",
       "    </tr>\n",
       "  </thead>\n",
       "  <tbody>\n",
       "    <tr>\n",
       "      <th>0</th>\n",
       "      <td>12.380</td>\n",
       "      <td>1257.62</td>\n",
       "      <td>4.0</td>\n",
       "      <td>4.0</td>\n",
       "      <td>13.68</td>\n",
       "      <td>81.11</td>\n",
       "      <td>1.13</td>\n",
       "      <td>863689088.0</td>\n",
       "      <td>11.21</td>\n",
       "      <td>13.52</td>\n",
       "      <td>...</td>\n",
       "      <td>15.57</td>\n",
       "      <td>17.61</td>\n",
       "      <td>86.36</td>\n",
       "      <td>19.40</td>\n",
       "      <td>21.25</td>\n",
       "      <td>1.0</td>\n",
       "      <td>0.095361</td>\n",
       "      <td>0.288014</td>\n",
       "      <td>0.058143</td>\n",
       "      <td>0.197286</td>\n",
       "    </tr>\n",
       "    <tr>\n",
       "      <th>1</th>\n",
       "      <td>12.135</td>\n",
       "      <td>1272.95</td>\n",
       "      <td>1.0</td>\n",
       "      <td>1.0</td>\n",
       "      <td>23.52</td>\n",
       "      <td>94.62</td>\n",
       "      <td>-0.13</td>\n",
       "      <td>836051392.0</td>\n",
       "      <td>11.20</td>\n",
       "      <td>13.42</td>\n",
       "      <td>...</td>\n",
       "      <td>15.38</td>\n",
       "      <td>17.38</td>\n",
       "      <td>84.80</td>\n",
       "      <td>19.15</td>\n",
       "      <td>21.20</td>\n",
       "      <td>1.0</td>\n",
       "      <td>0.107050</td>\n",
       "      <td>0.203437</td>\n",
       "      <td>0.096000</td>\n",
       "      <td>0.175625</td>\n",
       "    </tr>\n",
       "    <tr>\n",
       "      <th>2</th>\n",
       "      <td>12.599</td>\n",
       "      <td>1268.78</td>\n",
       "      <td>2.0</td>\n",
       "      <td>2.0</td>\n",
       "      <td>18.29</td>\n",
       "      <td>94.62</td>\n",
       "      <td>0.50</td>\n",
       "      <td>817246848.0</td>\n",
       "      <td>10.00</td>\n",
       "      <td>12.65</td>\n",
       "      <td>...</td>\n",
       "      <td>14.41</td>\n",
       "      <td>17.02</td>\n",
       "      <td>85.25</td>\n",
       "      <td>19.15</td>\n",
       "      <td>21.40</td>\n",
       "      <td>1.0</td>\n",
       "      <td>0.117493</td>\n",
       "      <td>0.239340</td>\n",
       "      <td>0.099500</td>\n",
       "      <td>0.231400</td>\n",
       "    </tr>\n",
       "    <tr>\n",
       "      <th>3</th>\n",
       "      <td>12.526</td>\n",
       "      <td>1276.29</td>\n",
       "      <td>1.0</td>\n",
       "      <td>1.0</td>\n",
       "      <td>21.63</td>\n",
       "      <td>97.96</td>\n",
       "      <td>-0.21</td>\n",
       "      <td>888521856.0</td>\n",
       "      <td>9.36</td>\n",
       "      <td>13.44</td>\n",
       "      <td>...</td>\n",
       "      <td>15.29</td>\n",
       "      <td>17.40</td>\n",
       "      <td>84.70</td>\n",
       "      <td>18.55</td>\n",
       "      <td>20.65</td>\n",
       "      <td>1.0</td>\n",
       "      <td>0.113208</td>\n",
       "      <td>-0.000964</td>\n",
       "      <td>0.094727</td>\n",
       "      <td>0.099727</td>\n",
       "    </tr>\n",
       "    <tr>\n",
       "      <th>4</th>\n",
       "      <td>12.508</td>\n",
       "      <td>1274.41</td>\n",
       "      <td>2.0</td>\n",
       "      <td>2.0</td>\n",
       "      <td>21.63</td>\n",
       "      <td>97.96</td>\n",
       "      <td>-0.18</td>\n",
       "      <td>864579584.0</td>\n",
       "      <td>8.97</td>\n",
       "      <td>12.67</td>\n",
       "      <td>...</td>\n",
       "      <td>14.47</td>\n",
       "      <td>17.14</td>\n",
       "      <td>84.60</td>\n",
       "      <td>18.60</td>\n",
       "      <td>20.85</td>\n",
       "      <td>1.0</td>\n",
       "      <td>0.120968</td>\n",
       "      <td>0.133800</td>\n",
       "      <td>0.075556</td>\n",
       "      <td>0.175889</td>\n",
       "    </tr>\n",
       "  </tbody>\n",
       "</table>\n",
       "<p>5 rows × 22 columns</p>\n",
       "</div>"
      ],
      "text/plain": [
       "      XIV      SPX  10-Day-Rank  50-Day-Rank  10-Day-Range  50-Day-Range  \\\n",
       "0  12.380  1257.62          4.0          4.0         13.68         81.11   \n",
       "1  12.135  1272.95          1.0          1.0         23.52         94.62   \n",
       "2  12.599  1268.78          2.0          2.0         18.29         94.62   \n",
       "3  12.526  1276.29          1.0          1.0         21.63         97.96   \n",
       "4  12.508  1274.41          2.0          2.0         21.63         97.96   \n",
       "\n",
       "   Percent-Change       Volume  Vol_30D  Impl_vol_50D    ...     Impl_vol 75D  \\\n",
       "0            1.13  863689088.0    11.21         13.52    ...            15.57   \n",
       "1           -0.13  836051392.0    11.20         13.42    ...            15.38   \n",
       "2            0.50  817246848.0    10.00         12.65    ...            14.41   \n",
       "3           -0.21  888521856.0     9.36         13.44    ...            15.29   \n",
       "4           -0.18  864579584.0     8.97         12.67    ...            14.47   \n",
       "\n",
       "   Vix-Open   VVIX    UX1    UX2  Contango  Futures-Percent  compound  \\\n",
       "0     17.61  86.36  19.40  21.25       1.0         0.095361  0.288014   \n",
       "1     17.38  84.80  19.15  21.20       1.0         0.107050  0.203437   \n",
       "2     17.02  85.25  19.15  21.40       1.0         0.117493  0.239340   \n",
       "3     17.40  84.70  18.55  20.65       1.0         0.113208 -0.000964   \n",
       "4     17.14  84.60  18.60  20.85       1.0         0.120968  0.133800   \n",
       "\n",
       "        neg       pos  \n",
       "0  0.058143  0.197286  \n",
       "1  0.096000  0.175625  \n",
       "2  0.099500  0.231400  \n",
       "3  0.094727  0.099727  \n",
       "4  0.075556  0.175889  \n",
       "\n",
       "[5 rows x 22 columns]"
      ]
     },
     "execution_count": 9,
     "metadata": {},
     "output_type": "execute_result"
    }
   ],
   "source": [
    "X_train_split.head()"
   ]
  },
  {
   "cell_type": "code",
   "execution_count": 10,
   "metadata": {},
   "outputs": [
    {
     "data": {
      "text/html": [
       "<div>\n",
       "<style>\n",
       "    .dataframe thead tr:only-child th {\n",
       "        text-align: right;\n",
       "    }\n",
       "\n",
       "    .dataframe thead th {\n",
       "        text-align: left;\n",
       "    }\n",
       "\n",
       "    .dataframe tbody tr th {\n",
       "        vertical-align: top;\n",
       "    }\n",
       "</style>\n",
       "<table border=\"1\" class=\"dataframe\">\n",
       "  <thead>\n",
       "    <tr style=\"text-align: right;\">\n",
       "      <th></th>\n",
       "      <th>VIX-Spike</th>\n",
       "    </tr>\n",
       "  </thead>\n",
       "  <tbody>\n",
       "    <tr>\n",
       "      <th>1368</th>\n",
       "      <td>0</td>\n",
       "    </tr>\n",
       "    <tr>\n",
       "      <th>1369</th>\n",
       "      <td>0</td>\n",
       "    </tr>\n",
       "    <tr>\n",
       "      <th>1370</th>\n",
       "      <td>0</td>\n",
       "    </tr>\n",
       "    <tr>\n",
       "      <th>1371</th>\n",
       "      <td>0</td>\n",
       "    </tr>\n",
       "    <tr>\n",
       "      <th>1372</th>\n",
       "      <td>0</td>\n",
       "    </tr>\n",
       "  </tbody>\n",
       "</table>\n",
       "</div>"
      ],
      "text/plain": [
       "      VIX-Spike\n",
       "1368          0\n",
       "1369          0\n",
       "1370          0\n",
       "1371          0\n",
       "1372          0"
      ]
     },
     "execution_count": 10,
     "metadata": {},
     "output_type": "execute_result"
    }
   ],
   "source": [
    "y_test_split.head()"
   ]
  },
  {
   "cell_type": "code",
   "execution_count": 11,
   "metadata": {
    "collapsed": true
   },
   "outputs": [],
   "source": [
    "# clean up selections\n",
    "y = np.array(y)\n",
    "y = y.reshape(y.shape[0],-1)\n",
    "y_train_split = np.array(y_train_split)\n",
    "y_train_split = y_train_split.reshape(y_train_split.shape[0],-1)\n",
    "y_test_split = np.array(y_test_split)\n",
    "y_test_split = y_test_split.reshape(y_test_split.shape[0],-1)"
   ]
  },
  {
   "cell_type": "markdown",
   "metadata": {},
   "source": [
    "### Feature Plotting"
   ]
  },
  {
   "cell_type": "code",
   "execution_count": 12,
   "metadata": {
    "collapsed": true
   },
   "outputs": [],
   "source": [
    "# # VIX-Open vs VIX-Close\n",
    "# X_blue = data[['Vix-Open','Vix-Close']]\n",
    "# sns.pairplot(X_blue)"
   ]
  },
  {
   "cell_type": "code",
   "execution_count": 13,
   "metadata": {
    "collapsed": true
   },
   "outputs": [],
   "source": [
    "# VIX-Open vs VIX-Close -- color coded\n"
   ]
  },
  {
   "cell_type": "markdown",
   "metadata": {},
   "source": [
    "## XGBoost"
   ]
  },
  {
   "cell_type": "markdown",
   "metadata": {},
   "source": [
    "### Grid Search"
   ]
  },
  {
   "cell_type": "code",
   "execution_count": 14,
   "metadata": {
    "collapsed": true
   },
   "outputs": [],
   "source": [
    "# grid search -- use educated guesses for parameter values\n",
    "\n",
    "rand_grid = [\n",
    "            {\n",
    "                'learning_rate':[0.1], \n",
    "                'n_estimators':[200],\n",
    "                'max_depth':[20], \n",
    "                'min_child_weight':[3], \n",
    "                'gamma':[0], \n",
    "                'subsample':[1], \n",
    "                'colsample_bytree':[0.8],   \n",
    "                'reg_alpha':[0.01]\n",
    "            }\n",
    "            ]"
   ]
  },
  {
   "cell_type": "code",
   "execution_count": 15,
   "metadata": {
    "collapsed": true
   },
   "outputs": [],
   "source": [
    "xgb_model = XGBClassifier(objective='binary:logistic',scale_pos_weight=1,\n",
    "                          nthread=-1,seed=27)\n",
    "# xgb_model.set_params()\n",
    "# kfold = StratifiedKFold(n_splits=5, shuffle=True, random_state=7)"
   ]
  },
  {
   "cell_type": "code",
   "execution_count": 16,
   "metadata": {
    "collapsed": true
   },
   "outputs": [],
   "source": [
    "# run grid search\n",
    "clf = GridSearchCV(estimator=xgb_model, param_grid=rand_grid, \n",
    "                   scoring='recall', n_jobs=4, cv=None, verbose=True)"
   ]
  },
  {
   "cell_type": "code",
   "execution_count": 17,
   "metadata": {},
   "outputs": [
    {
     "name": "stdout",
     "output_type": "stream",
     "text": [
      "Fitting 3 folds for each of 1 candidates, totalling 3 fits\n"
     ]
    },
    {
     "name": "stderr",
     "output_type": "stream",
     "text": [
      "[Parallel(n_jobs=4)]: Done   3 out of   3 | elapsed:    1.5s finished\n"
     ]
    }
   ],
   "source": [
    "# fit on all testing data\n",
    "y = np.reshape(y, newshape=-1)\n",
    "grid_result = clf.fit(X, y)"
   ]
  },
  {
   "cell_type": "markdown",
   "metadata": {},
   "source": [
    "### Cross Validation Results"
   ]
  },
  {
   "cell_type": "code",
   "execution_count": 18,
   "metadata": {},
   "outputs": [
    {
     "data": {
      "text/plain": [
       "{'colsample_bytree': 0.8,\n",
       " 'gamma': 0,\n",
       " 'learning_rate': 0.1,\n",
       " 'max_depth': 20,\n",
       " 'min_child_weight': 3,\n",
       " 'n_estimators': 200,\n",
       " 'reg_alpha': 0.01,\n",
       " 'subsample': 1}"
      ]
     },
     "execution_count": 18,
     "metadata": {},
     "output_type": "execute_result"
    }
   ],
   "source": [
    "# best params\n",
    "clf.best_params_"
   ]
  },
  {
   "cell_type": "code",
   "execution_count": 19,
   "metadata": {},
   "outputs": [
    {
     "data": {
      "text/plain": [
       "{'colsample_bytree': 0.8,\n",
       " 'gamma': 0,\n",
       " 'learning_rate': 0.1,\n",
       " 'max_depth': 20,\n",
       " 'min_child_weight': 3,\n",
       " 'n_estimators': 200,\n",
       " 'reg_alpha': 0.01,\n",
       " 'subsample': 1}"
      ]
     },
     "execution_count": 19,
     "metadata": {},
     "output_type": "execute_result"
    }
   ],
   "source": [
    "# best params\n",
    "grid_result.best_params_"
   ]
  },
  {
   "cell_type": "code",
   "execution_count": 20,
   "metadata": {},
   "outputs": [
    {
     "name": "stdout",
     "output_type": "stream",
     "text": [
      "CV results:  {'split0_test_score': array([ 0.]), 'split1_test_score': array([ 0.02608696]), 'split2_test_score': array([ 0.19130435]), 'mean_test_score': array([ 0.07242264]), 'std_test_score': array([ 0.0846987]), 'rank_test_score': array([1], dtype=int32), 'split0_train_score': array([ 0.97391304]), 'split1_train_score': array([ 0.97402597]), 'split2_train_score': array([ 1.]), 'mean_train_score': array([ 0.98264634]), 'std_train_score': array([ 0.01227098]), 'mean_fit_time': array([ 1.17242273]), 'std_fit_time': array([ 0.30196376]), 'mean_score_time': array([ 0.01108448]), 'std_score_time': array([ 0.00169971]), 'param_colsample_bytree': masked_array(data = [0.8],\n",
      "             mask = [False],\n",
      "       fill_value = ?)\n",
      ", 'param_gamma': masked_array(data = [0],\n",
      "             mask = [False],\n",
      "       fill_value = ?)\n",
      ", 'param_learning_rate': masked_array(data = [0.1],\n",
      "             mask = [False],\n",
      "       fill_value = ?)\n",
      ", 'param_max_depth': masked_array(data = [20],\n",
      "             mask = [False],\n",
      "       fill_value = ?)\n",
      ", 'param_min_child_weight': masked_array(data = [3],\n",
      "             mask = [False],\n",
      "       fill_value = ?)\n",
      ", 'param_n_estimators': masked_array(data = [200],\n",
      "             mask = [False],\n",
      "       fill_value = ?)\n",
      ", 'param_reg_alpha': masked_array(data = [0.01],\n",
      "             mask = [False],\n",
      "       fill_value = ?)\n",
      ", 'param_subsample': masked_array(data = [1],\n",
      "             mask = [False],\n",
      "       fill_value = ?)\n",
      ", 'params': ({'colsample_bytree': 0.8, 'gamma': 0, 'learning_rate': 0.1, 'max_depth': 20, 'min_child_weight': 3, 'n_estimators': 200, 'reg_alpha': 0.01, 'subsample': 1},)}\n",
      "at index  0\n",
      "Best: 0.072423 using {'colsample_bytree': 0.8, 'gamma': 0, 'learning_rate': 0.1, 'max_depth': 20, 'min_child_weight': 3, 'n_estimators': 200, 'reg_alpha': 0.01, 'subsample': 1}\n"
     ]
    }
   ],
   "source": [
    "# summarize results\n",
    "print ('CV results: ', grid_result.cv_results_)\n",
    "print ('at index ', grid_result.best_index_)\n",
    "print ('Best: %f using %s' % (grid_result.best_score_, grid_result.best_params_))"
   ]
  },
  {
   "cell_type": "markdown",
   "metadata": {},
   "source": [
    "### XGBoost - Fit Model on Best Params"
   ]
  },
  {
   "cell_type": "code",
   "execution_count": 21,
   "metadata": {
    "collapsed": true
   },
   "outputs": [],
   "source": [
    "# fit model on auc predictions on entire training dataset\n",
    "xgb_online = XGBClassifier(objective='binary:logistic',\n",
    "                                scale_pos_weight=1,nthread=-1,seed=27,\n",
    "                                learning_rate=grid_result.best_params_['learning_rate'], \n",
    "                                n_estimators=grid_result.best_params_['n_estimators'],\n",
    "                                max_depth=grid_result.best_params_['max_depth'], \n",
    "                                min_child_weight=grid_result.best_params_['min_child_weight'],\n",
    "                                gamma=grid_result.best_params_['gamma'],\n",
    "                                subsample=grid_result.best_params_['subsample'], \n",
    "                                colsample_bytree=grid_result.best_params_['colsample_bytree'], \n",
    "                                reg_alpha=grid_result.best_params_['reg_alpha'])"
   ]
  },
  {
   "cell_type": "markdown",
   "metadata": {},
   "source": [
    "### Online Updates"
   ]
  },
  {
   "cell_type": "code",
   "execution_count": 22,
   "metadata": {},
   "outputs": [
    {
     "data": {
      "text/plain": [
       "1762"
      ]
     },
     "execution_count": 22,
     "metadata": {},
     "output_type": "execute_result"
    }
   ],
   "source": [
    "X.shape[0]"
   ]
  },
  {
   "cell_type": "code",
   "execution_count": 23,
   "metadata": {
    "collapsed": true
   },
   "outputs": [],
   "source": [
    "y_pred = []"
   ]
  },
  {
   "cell_type": "code",
   "execution_count": 24,
   "metadata": {},
   "outputs": [
    {
     "data": {
      "text/plain": [
       "(1762,)"
      ]
     },
     "execution_count": 24,
     "metadata": {},
     "output_type": "execute_result"
    }
   ],
   "source": [
    "y.shape"
   ]
  },
  {
   "cell_type": "code",
   "execution_count": 25,
   "metadata": {},
   "outputs": [
    {
     "name": "stdout",
     "output_type": "stream",
     "text": [
      "500\n",
      "600\n",
      "700\n",
      "800\n",
      "900\n",
      "1000\n",
      "1100\n",
      "1200\n",
      "1300\n",
      "1400\n",
      "1500\n",
      "1600\n",
      "1700\n"
     ]
    }
   ],
   "source": [
    "startIdx = 500\n",
    "windowSize = 500\n",
    "for rowIdx in range(startIdx, X.shape[0]-1):\n",
    "#     define train and test set\n",
    "    X_train = X.loc[rowIdx-windowSize:rowIdx-1,:]\n",
    "    y_train = y[rowIdx-windowSize:rowIdx]\n",
    "    X_test = X.loc[[rowIdx]]\n",
    "    y_test = y[rowIdx]\n",
    "#     print(len(y_train))\n",
    "#     print(X_train.shape)\n",
    "#     print(X_train)\n",
    "#     fit xgb model on training data\n",
    "    xgb_online.fit(X_train, y_train, eval_metric='auc')\n",
    "#     make predictions\n",
    "    y_pred.append(xgb_online.predict(X_test))\n",
    "#     display progress\n",
    "    if (rowIdx%100==0):\n",
    "        print (rowIdx)"
   ]
  },
  {
   "cell_type": "code",
   "execution_count": 26,
   "metadata": {
    "collapsed": true
   },
   "outputs": [],
   "source": [
    "# reshape\n",
    "y_pred = np.array(y_pred).flatten()\n",
    "y_test = y[501:]"
   ]
  },
  {
   "cell_type": "code",
   "execution_count": 27,
   "metadata": {},
   "outputs": [
    {
     "data": {
      "text/plain": [
       "(1261,)"
      ]
     },
     "execution_count": 27,
     "metadata": {},
     "output_type": "execute_result"
    }
   ],
   "source": [
    "y_pred.shape"
   ]
  },
  {
   "cell_type": "code",
   "execution_count": 28,
   "metadata": {},
   "outputs": [
    {
     "data": {
      "text/plain": [
       "(1261,)"
      ]
     },
     "execution_count": 28,
     "metadata": {},
     "output_type": "execute_result"
    }
   ],
   "source": [
    "y_test.shape"
   ]
  },
  {
   "cell_type": "markdown",
   "metadata": {},
   "source": [
    "#### Running Values"
   ]
  },
  {
   "cell_type": "code",
   "execution_count": 29,
   "metadata": {
    "collapsed": true
   },
   "outputs": [],
   "source": [
    "recall_list = []\n",
    "precision_list = []\n",
    "non_error_list = []"
   ]
  },
  {
   "cell_type": "code",
   "execution_count": 30,
   "metadata": {
    "collapsed": true
   },
   "outputs": [],
   "source": [
    "def findRates(y_test_cfm, y_pred_cfm):\n",
    "    cfm = confusion_matrix(y_test_cfm, y_pred_cfm)\n",
    "\n",
    "#     print (cfm)\n",
    "    \n",
    "    tp, fp, fn, tn = cfm.ravel()\n",
    "\n",
    "    recall_rate = tp / (tp + fn)\n",
    "    precision_rate = tp / (tp + fp)\n",
    "    error_rate = (fp + fn) / (tp + fp + fn + tn)\n",
    "    non_error_rate = 1 - error_rate\n",
    "    \n",
    "    return [recall_rate, precision_rate, non_error_rate]"
   ]
  },
  {
   "cell_type": "code",
   "execution_count": 31,
   "metadata": {
    "collapsed": true
   },
   "outputs": [],
   "source": [
    "for idx in range(y_test.shape[0]-1):\n",
    "    \n",
    "#     print ('idx', idx)\n",
    "#     print ('y_test', str(y_test[:idx+2]))\n",
    "#     print ('y_pred', str(y_pred[:idx+2]))\n",
    "    \n",
    "    accuracy_list = findRates(y_test[:idx+2], y_pred[:idx+2])\n",
    "    \n",
    "    recall_list.append(accuracy_list[0])\n",
    "    precision_list.append(accuracy_list[1])\n",
    "    non_error_list.append(accuracy_list[2])"
   ]
  },
  {
   "cell_type": "code",
   "execution_count": 32,
   "metadata": {},
   "outputs": [
    {
     "data": {
      "text/plain": [
       "(1260,)"
      ]
     },
     "execution_count": 32,
     "metadata": {},
     "output_type": "execute_result"
    }
   ],
   "source": [
    "recall_list = np.array(recall_list).flatten()\n",
    "recall_list.shape"
   ]
  },
  {
   "cell_type": "code",
   "execution_count": 33,
   "metadata": {},
   "outputs": [
    {
     "data": {
      "text/plain": [
       "(1260,)"
      ]
     },
     "execution_count": 33,
     "metadata": {},
     "output_type": "execute_result"
    }
   ],
   "source": [
    "precision_list = np.array(precision_list).flatten()\n",
    "precision_list.shape"
   ]
  },
  {
   "cell_type": "code",
   "execution_count": 34,
   "metadata": {},
   "outputs": [
    {
     "data": {
      "text/plain": [
       "(1260,)"
      ]
     },
     "execution_count": 34,
     "metadata": {},
     "output_type": "execute_result"
    }
   ],
   "source": [
    "non_error_list = np.array(non_error_list).flatten()\n",
    "non_error_list.shape"
   ]
  },
  {
   "cell_type": "markdown",
   "metadata": {},
   "source": [
    "#### Plot results"
   ]
  },
  {
   "cell_type": "code",
   "execution_count": 35,
   "metadata": {
    "collapsed": true
   },
   "outputs": [],
   "source": [
    "x_axis = np.arange(1260)"
   ]
  },
  {
   "cell_type": "code",
   "execution_count": 36,
   "metadata": {},
   "outputs": [
    {
     "name": "stderr",
     "output_type": "stream",
     "text": [
      "/Users/Valcer/anaconda/lib/python3.6/site-packages/matplotlib/cbook.py:136: MatplotlibDeprecationWarning: The set_color_cycle attribute was deprecated in version 1.5. Use set_prop_cycle instead.\n",
      "  warnings.warn(message, mplDeprecation, stacklevel=1)\n"
     ]
    },
    {
     "data": {
      "text/plain": [
       "<matplotlib.legend.Legend at 0x106eeeb70>"
      ]
     },
     "execution_count": 36,
     "metadata": {},
     "output_type": "execute_result"
    },
    {
     "data": {
      "image/png": "[encoded data removed]",
      "text/plain": [
       "<matplotlib.figure.Figure at 0x106ebbcf8>"
      ]
     },
     "metadata": {},
     "output_type": "display_data"
    }
   ],
   "source": [
    "plt.gca().set_color_cycle(['red', 'green', 'blue', 'yellow'])\n",
    "\n",
    "plt.plot(x_axis, recall_list)\n",
    "plt.plot(x_axis, precision_list)\n",
    "plt.plot(x_axis, non_error_list)\n",
    "\n",
    "plt.legend(['recall', 'precision', 'accuracy'], loc='lower right')"
   ]
  },
  {
   "cell_type": "markdown",
   "metadata": {},
   "source": [
    "#### Final Values"
   ]
  },
  {
   "cell_type": "code",
   "execution_count": 37,
   "metadata": {},
   "outputs": [
    {
     "data": {
      "text/plain": [
       "array([[946,  61],\n",
       "       [230,  24]])"
      ]
     },
     "execution_count": 37,
     "metadata": {},
     "output_type": "execute_result"
    }
   ],
   "source": [
    "confusion_matrix(y_test, y_pred)"
   ]
  },
  {
   "cell_type": "code",
   "execution_count": 38,
   "metadata": {
    "collapsed": true
   },
   "outputs": [],
   "source": [
    "accuracy_list = findRates(y_test, y_pred)\n",
    "\n",
    "recall_rate_final = accuracy_list[0]\n",
    "precision_rate_final = accuracy_list[1]\n",
    "error_rate_final = accuracy_list[2]"
   ]
  },
  {
   "cell_type": "code",
   "execution_count": 39,
   "metadata": {},
   "outputs": [
    {
     "data": {
      "text/plain": [
       "0.80442176870748294"
      ]
     },
     "execution_count": 39,
     "metadata": {},
     "output_type": "execute_result"
    }
   ],
   "source": [
    "recall_rate_final"
   ]
  },
  {
   "cell_type": "code",
   "execution_count": 40,
   "metadata": {},
   "outputs": [
    {
     "data": {
      "text/plain": [
       "0.93942403177755707"
      ]
     },
     "execution_count": 40,
     "metadata": {},
     "output_type": "execute_result"
    }
   ],
   "source": [
    "precision_rate_final"
   ]
  },
  {
   "cell_type": "code",
   "execution_count": 41,
   "metadata": {},
   "outputs": [
    {
     "data": {
      "text/plain": [
       "0.23076923076923084"
      ]
     },
     "execution_count": 41,
     "metadata": {},
     "output_type": "execute_result"
    }
   ],
   "source": [
    "1 - error_rate_final"
   ]
  },
  {
   "cell_type": "code",
   "execution_count": 42,
   "metadata": {
    "collapsed": true
   },
   "outputs": [],
   "source": [
    "y_pred = y_pred.astype(int)\n",
    "np.savetxt('xgb_preds.csv', y_pred, delimiter=',')"
   ]
  },
  {
   "cell_type": "markdown",
   "metadata": {},
   "source": [
    "## Random Forest"
   ]
  },
  {
   "cell_type": "markdown",
   "metadata": {},
   "source": [
    "### Grid Search"
   ]
  },
  {
   "cell_type": "code",
   "execution_count": 43,
   "metadata": {
    "collapsed": true
   },
   "outputs": [],
   "source": [
    "# grid search -- use educated guesses for parameter values\n",
    "\n",
    "rand_grid = [\n",
    "            {\n",
    "                'n_estimators':[250],\n",
    "                'max_features':[16],\n",
    "                'max_depth':[15]\n",
    "            }\n",
    "            ]"
   ]
  },
  {
   "cell_type": "code",
   "execution_count": 44,
   "metadata": {
    "collapsed": true
   },
   "outputs": [],
   "source": [
    "rf_model = RandomForestClassifier(bootstrap=True, class_weight=None,\n",
    "                                  criterion='gini', n_jobs=4, verbose=1)\n",
    "# xgb_model.set_params()\n",
    "kfold = StratifiedKFold(n_splits=5, shuffle=True, random_state=7)"
   ]
  },
  {
   "cell_type": "code",
   "execution_count": 45,
   "metadata": {
    "collapsed": true
   },
   "outputs": [],
   "source": [
    "# run grid search\n",
    "clf_rf = GridSearchCV(estimator=rf_model, param_grid=rand_grid, \n",
    "                   scoring='recall', n_jobs=4, cv=kfold, verbose=True)"
   ]
  },
  {
   "cell_type": "code",
   "execution_count": 46,
   "metadata": {},
   "outputs": [
    {
     "name": "stdout",
     "output_type": "stream",
     "text": [
      "Fitting 5 folds for each of 1 candidates, totalling 5 fits\n"
     ]
    },
    {
     "ename": "JoblibValueError",
     "evalue": "JoblibValueError\n___________________________________________________________________________\nMultiprocessing exception:\n...........................................................................\n/Users/Valcer/anaconda/lib/python3.6/runpy.py in _run_module_as_main(mod_name='ipykernel_launcher', alter_argv=1)\n    188         sys.exit(msg)\n    189     main_globals = sys.modules[\"__main__\"].__dict__\n    190     if alter_argv:\n    191         sys.argv[0] = mod_spec.origin\n    192     return _run_code(code, main_globals, None,\n--> 193                      \"__main__\", mod_spec)\n        mod_spec = ModuleSpec(name='ipykernel_launcher', loader=<_f...b/python3.6/site-packages/ipykernel_launcher.py')\n    194 \n    195 def run_module(mod_name, init_globals=None,\n    196                run_name=None, alter_sys=False):\n    197     \"\"\"Execute a module's code without importing it\n\n...........................................................................\n/Users/Valcer/anaconda/lib/python3.6/runpy.py in _run_code(code=<code object <module> at 0x105794150, file \"/Use...3.6/site-packages/ipykernel_launcher.py\", line 5>, run_globals={'__annotations__': {}, '__builtins__': <module 'builtins' (built-in)>, '__cached__': '/Users/Valcer/anaconda/lib/python3.6/site-packages/__pycache__/ipykernel_launcher.cpython-36.pyc', '__doc__': 'Entry point for launching an IPython kernel.\\n\\nTh...orts until\\nafter removing the cwd from sys.path.\\n', '__file__': '/Users/Valcer/anaconda/lib/python3.6/site-packages/ipykernel_launcher.py', '__loader__': <_frozen_importlib_external.SourceFileLoader object>, '__name__': '__main__', '__package__': '', '__spec__': ModuleSpec(name='ipykernel_launcher', loader=<_f...b/python3.6/site-packages/ipykernel_launcher.py'), 'app': <module 'ipykernel.kernelapp' from '/Users/Valce.../python3.6/site-packages/ipykernel/kernelapp.py'>, ...}, init_globals=None, mod_name='__main__', mod_spec=ModuleSpec(name='ipykernel_launcher', loader=<_f...b/python3.6/site-packages/ipykernel_launcher.py'), pkg_name='', script_name=None)\n     80                        __cached__ = cached,\n     81                        __doc__ = None,\n     82                        __loader__ = loader,\n     83                        __package__ = pkg_name,\n     84                        __spec__ = mod_spec)\n---> 85     exec(code, run_globals)\n        code = <code object <module> at 0x105794150, file \"/Use...3.6/site-packages/ipykernel_launcher.py\", line 5>\n        run_globals = {'__annotations__': {}, '__builtins__': <module 'builtins' (built-in)>, '__cached__': '/Users/Valcer/anaconda/lib/python3.6/site-packages/__pycache__/ipykernel_launcher.cpython-36.pyc', '__doc__': 'Entry point for launching an IPython kernel.\\n\\nTh...orts until\\nafter removing the cwd from sys.path.\\n', '__file__': '/Users/Valcer/anaconda/lib/python3.6/site-packages/ipykernel_launcher.py', '__loader__': <_frozen_importlib_external.SourceFileLoader object>, '__name__': '__main__', '__package__': '', '__spec__': ModuleSpec(name='ipykernel_launcher', loader=<_f...b/python3.6/site-packages/ipykernel_launcher.py'), 'app': <module 'ipykernel.kernelapp' from '/Users/Valce.../python3.6/site-packages/ipykernel/kernelapp.py'>, ...}\n     86     return run_globals\n     87 \n     88 def _run_module_code(code, init_globals=None,\n     89                     mod_name=None, mod_spec=None,\n\n...........................................................................\n/Users/Valcer/anaconda/lib/python3.6/site-packages/ipykernel_launcher.py in <module>()\n     11     # This is added back by InteractiveShellApp.init_path()\n     12     if sys.path[0] == '':\n     13         del sys.path[0]\n     14 \n     15     from ipykernel import kernelapp as app\n---> 16     app.launch_new_instance()\n     17 \n     18 \n     19 \n     20 \n\n...........................................................................\n/Users/Valcer/anaconda/lib/python3.6/site-packages/traitlets/config/application.py in launch_instance(cls=<class 'ipykernel.kernelapp.IPKernelApp'>, argv=None, **kwargs={})\n    653 \n    654         If a global instance already exists, this reinitializes and starts it\n    655         \"\"\"\n    656         app = cls.instance(**kwargs)\n    657         app.initialize(argv)\n--> 658         app.start()\n        app.start = <bound method IPKernelApp.start of <ipykernel.kernelapp.IPKernelApp object>>\n    659 \n    660 #-----------------------------------------------------------------------------\n    661 # utility functions, for convenience\n    662 #-----------------------------------------------------------------------------\n\n...........................................................................\n/Users/Valcer/anaconda/lib/python3.6/site-packages/ipykernel/kernelapp.py in start(self=<ipykernel.kernelapp.IPKernelApp object>)\n    472             return self.subapp.start()\n    473         if self.poller is not None:\n    474             self.poller.start()\n    475         self.kernel.start()\n    476         try:\n--> 477             ioloop.IOLoop.instance().start()\n    478         except KeyboardInterrupt:\n    479             pass\n    480 \n    481 launch_new_instance = IPKernelApp.launch_instance\n\n...........................................................................\n/Users/Valcer/anaconda/lib/python3.6/site-packages/zmq/eventloop/ioloop.py in start(self=<zmq.eventloop.ioloop.ZMQIOLoop object>)\n    172             )\n    173         return loop\n    174     \n    175     def start(self):\n    176         try:\n--> 177             super(ZMQIOLoop, self).start()\n        self.start = <bound method ZMQIOLoop.start of <zmq.eventloop.ioloop.ZMQIOLoop object>>\n    178         except ZMQError as e:\n    179             if e.errno == ETERM:\n    180                 # quietly return on ETERM\n    181                 pass\n\n...........................................................................\n/Users/Valcer/anaconda/lib/python3.6/site-packages/tornado/ioloop.py in start(self=<zmq.eventloop.ioloop.ZMQIOLoop object>)\n    883                 self._events.update(event_pairs)\n    884                 while self._events:\n    885                     fd, events = self._events.popitem()\n    886                     try:\n    887                         fd_obj, handler_func = self._handlers[fd]\n--> 888                         handler_func(fd_obj, events)\n        handler_func = <function wrap.<locals>.null_wrapper>\n        fd_obj = <zmq.sugar.socket.Socket object>\n        events = 5\n    889                     except (OSError, IOError) as e:\n    890                         if errno_from_exception(e) == errno.EPIPE:\n    891                             # Happens when the client closes the connection\n    892                             pass\n\n...........................................................................\n/Users/Valcer/anaconda/lib/python3.6/site-packages/tornado/stack_context.py in null_wrapper(*args=(<zmq.sugar.socket.Socket object>, 5), **kwargs={})\n    272         # Fast path when there are no active contexts.\n    273         def null_wrapper(*args, **kwargs):\n    274             try:\n    275                 current_state = _state.contexts\n    276                 _state.contexts = cap_contexts[0]\n--> 277                 return fn(*args, **kwargs)\n        args = (<zmq.sugar.socket.Socket object>, 5)\n        kwargs = {}\n    278             finally:\n    279                 _state.contexts = current_state\n    280         null_wrapper._wrapped = True\n    281         return null_wrapper\n\n...........................................................................\n/Users/Valcer/anaconda/lib/python3.6/site-packages/zmq/eventloop/zmqstream.py in _handle_events(self=<zmq.eventloop.zmqstream.ZMQStream object>, fd=<zmq.sugar.socket.Socket object>, events=5)\n    435             # dispatch events:\n    436             if events & IOLoop.ERROR:\n    437                 gen_log.error(\"got POLLERR event on ZMQStream, which doesn't make sense\")\n    438                 return\n    439             if events & IOLoop.READ:\n--> 440                 self._handle_recv()\n        self._handle_recv = <bound method ZMQStream._handle_recv of <zmq.eventloop.zmqstream.ZMQStream object>>\n    441                 if not self.socket:\n    442                     return\n    443             if events & IOLoop.WRITE:\n    444                 self._handle_send()\n\n...........................................................................\n/Users/Valcer/anaconda/lib/python3.6/site-packages/zmq/eventloop/zmqstream.py in _handle_recv(self=<zmq.eventloop.zmqstream.ZMQStream object>)\n    467                 gen_log.error(\"RECV Error: %s\"%zmq.strerror(e.errno))\n    468         else:\n    469             if self._recv_callback:\n    470                 callback = self._recv_callback\n    471                 # self._recv_callback = None\n--> 472                 self._run_callback(callback, msg)\n        self._run_callback = <bound method ZMQStream._run_callback of <zmq.eventloop.zmqstream.ZMQStream object>>\n        callback = <function wrap.<locals>.null_wrapper>\n        msg = [<zmq.sugar.frame.Frame object>, <zmq.sugar.frame.Frame object>, <zmq.sugar.frame.Frame object>, <zmq.sugar.frame.Frame object>, <zmq.sugar.frame.Frame object>, <zmq.sugar.frame.Frame object>, <zmq.sugar.frame.Frame object>]\n    473                 \n    474         # self.update_state()\n    475         \n    476 \n\n...........................................................................\n/Users/Valcer/anaconda/lib/python3.6/site-packages/zmq/eventloop/zmqstream.py in _run_callback(self=<zmq.eventloop.zmqstream.ZMQStream object>, callback=<function wrap.<locals>.null_wrapper>, *args=([<zmq.sugar.frame.Frame object>, <zmq.sugar.frame.Frame object>, <zmq.sugar.frame.Frame object>, <zmq.sugar.frame.Frame object>, <zmq.sugar.frame.Frame object>, <zmq.sugar.frame.Frame object>, <zmq.sugar.frame.Frame object>],), **kwargs={})\n    409         close our socket.\"\"\"\n    410         try:\n    411             # Use a NullContext to ensure that all StackContexts are run\n    412             # inside our blanket exception handler rather than outside.\n    413             with stack_context.NullContext():\n--> 414                 callback(*args, **kwargs)\n        callback = <function wrap.<locals>.null_wrapper>\n        args = ([<zmq.sugar.frame.Frame object>, <zmq.sugar.frame.Frame object>, <zmq.sugar.frame.Frame object>, <zmq.sugar.frame.Frame object>, <zmq.sugar.frame.Frame object>, <zmq.sugar.frame.Frame object>, <zmq.sugar.frame.Frame object>],)\n        kwargs = {}\n    415         except:\n    416             gen_log.error(\"Uncaught exception, closing connection.\",\n    417                           exc_info=True)\n    418             # Close the socket on an uncaught exception from a user callback\n\n...........................................................................\n/Users/Valcer/anaconda/lib/python3.6/site-packages/tornado/stack_context.py in null_wrapper(*args=([<zmq.sugar.frame.Frame object>, <zmq.sugar.frame.Frame object>, <zmq.sugar.frame.Frame object>, <zmq.sugar.frame.Frame object>, <zmq.sugar.frame.Frame object>, <zmq.sugar.frame.Frame object>, <zmq.sugar.frame.Frame object>],), **kwargs={})\n    272         # Fast path when there are no active contexts.\n    273         def null_wrapper(*args, **kwargs):\n    274             try:\n    275                 current_state = _state.contexts\n    276                 _state.contexts = cap_contexts[0]\n--> 277                 return fn(*args, **kwargs)\n        args = ([<zmq.sugar.frame.Frame object>, <zmq.sugar.frame.Frame object>, <zmq.sugar.frame.Frame object>, <zmq.sugar.frame.Frame object>, <zmq.sugar.frame.Frame object>, <zmq.sugar.frame.Frame object>, <zmq.sugar.frame.Frame object>],)\n        kwargs = {}\n    278             finally:\n    279                 _state.contexts = current_state\n    280         null_wrapper._wrapped = True\n    281         return null_wrapper\n\n...........................................................................\n/Users/Valcer/anaconda/lib/python3.6/site-packages/ipykernel/kernelbase.py in dispatcher(msg=[<zmq.sugar.frame.Frame object>, <zmq.sugar.frame.Frame object>, <zmq.sugar.frame.Frame object>, <zmq.sugar.frame.Frame object>, <zmq.sugar.frame.Frame object>, <zmq.sugar.frame.Frame object>, <zmq.sugar.frame.Frame object>])\n    278         if self.control_stream:\n    279             self.control_stream.on_recv(self.dispatch_control, copy=False)\n    280 \n    281         def make_dispatcher(stream):\n    282             def dispatcher(msg):\n--> 283                 return self.dispatch_shell(stream, msg)\n        msg = [<zmq.sugar.frame.Frame object>, <zmq.sugar.frame.Frame object>, <zmq.sugar.frame.Frame object>, <zmq.sugar.frame.Frame object>, <zmq.sugar.frame.Frame object>, <zmq.sugar.frame.Frame object>, <zmq.sugar.frame.Frame object>]\n    284             return dispatcher\n    285 \n    286         for s in self.shell_streams:\n    287             s.on_recv(make_dispatcher(s), copy=False)\n\n...........................................................................\n/Users/Valcer/anaconda/lib/python3.6/site-packages/ipykernel/kernelbase.py in dispatch_shell(self=<ipykernel.ipkernel.IPythonKernel object>, stream=<zmq.eventloop.zmqstream.ZMQStream object>, msg={'buffers': [], 'content': {'allow_stdin': True, 'code': '# fit on all testing data\\ny = np.reshape(y, newshape=-1)\\ngrid_result = clf_rf.fit(X, y)', 'silent': False, 'stop_on_error': True, 'store_history': True, 'user_expressions': {}}, 'header': {'date': datetime.datetime(2017, 12, 14, 20, 11, 33, 360211, tzinfo=datetime.timezone.utc), 'msg_id': '560D30DD82A94AE38DDFA54591300242', 'msg_type': 'execute_request', 'session': 'D659EEF921B844AE8B9083C3EF4478AC', 'username': 'username', 'version': '5.0'}, 'metadata': {}, 'msg_id': '560D30DD82A94AE38DDFA54591300242', 'msg_type': 'execute_request', 'parent_header': {}})\n    230             self.log.warn(\"Unknown message type: %r\", msg_type)\n    231         else:\n    232             self.log.debug(\"%s: %s\", msg_type, msg)\n    233             self.pre_handler_hook()\n    234             try:\n--> 235                 handler(stream, idents, msg)\n        handler = <bound method Kernel.execute_request of <ipykernel.ipkernel.IPythonKernel object>>\n        stream = <zmq.eventloop.zmqstream.ZMQStream object>\n        idents = [b'D659EEF921B844AE8B9083C3EF4478AC']\n        msg = {'buffers': [], 'content': {'allow_stdin': True, 'code': '# fit on all testing data\\ny = np.reshape(y, newshape=-1)\\ngrid_result = clf_rf.fit(X, y)', 'silent': False, 'stop_on_error': True, 'store_history': True, 'user_expressions': {}}, 'header': {'date': datetime.datetime(2017, 12, 14, 20, 11, 33, 360211, tzinfo=datetime.timezone.utc), 'msg_id': '560D30DD82A94AE38DDFA54591300242', 'msg_type': 'execute_request', 'session': 'D659EEF921B844AE8B9083C3EF4478AC', 'username': 'username', 'version': '5.0'}, 'metadata': {}, 'msg_id': '560D30DD82A94AE38DDFA54591300242', 'msg_type': 'execute_request', 'parent_header': {}}\n    236             except Exception:\n    237                 self.log.error(\"Exception in message handler:\", exc_info=True)\n    238             finally:\n    239                 self.post_handler_hook()\n\n...........................................................................\n/Users/Valcer/anaconda/lib/python3.6/site-packages/ipykernel/kernelbase.py in execute_request(self=<ipykernel.ipkernel.IPythonKernel object>, stream=<zmq.eventloop.zmqstream.ZMQStream object>, ident=[b'D659EEF921B844AE8B9083C3EF4478AC'], parent={'buffers': [], 'content': {'allow_stdin': True, 'code': '# fit on all testing data\\ny = np.reshape(y, newshape=-1)\\ngrid_result = clf_rf.fit(X, y)', 'silent': False, 'stop_on_error': True, 'store_history': True, 'user_expressions': {}}, 'header': {'date': datetime.datetime(2017, 12, 14, 20, 11, 33, 360211, tzinfo=datetime.timezone.utc), 'msg_id': '560D30DD82A94AE38DDFA54591300242', 'msg_type': 'execute_request', 'session': 'D659EEF921B844AE8B9083C3EF4478AC', 'username': 'username', 'version': '5.0'}, 'metadata': {}, 'msg_id': '560D30DD82A94AE38DDFA54591300242', 'msg_type': 'execute_request', 'parent_header': {}})\n    394         if not silent:\n    395             self.execution_count += 1\n    396             self._publish_execute_input(code, parent, self.execution_count)\n    397 \n    398         reply_content = self.do_execute(code, silent, store_history,\n--> 399                                         user_expressions, allow_stdin)\n        user_expressions = {}\n        allow_stdin = True\n    400 \n    401         # Flush output before sending the reply.\n    402         sys.stdout.flush()\n    403         sys.stderr.flush()\n\n...........................................................................\n/Users/Valcer/anaconda/lib/python3.6/site-packages/ipykernel/ipkernel.py in do_execute(self=<ipykernel.ipkernel.IPythonKernel object>, code='# fit on all testing data\\ny = np.reshape(y, newshape=-1)\\ngrid_result = clf_rf.fit(X, y)', silent=False, store_history=True, user_expressions={}, allow_stdin=True)\n    191 \n    192         self._forward_input(allow_stdin)\n    193 \n    194         reply_content = {}\n    195         try:\n--> 196             res = shell.run_cell(code, store_history=store_history, silent=silent)\n        res = undefined\n        shell.run_cell = <bound method ZMQInteractiveShell.run_cell of <ipykernel.zmqshell.ZMQInteractiveShell object>>\n        code = '# fit on all testing data\\ny = np.reshape(y, newshape=-1)\\ngrid_result = clf_rf.fit(X, y)'\n        store_history = True\n        silent = False\n    197         finally:\n    198             self._restore_input()\n    199 \n    200         if res.error_before_exec is not None:\n\n...........................................................................\n/Users/Valcer/anaconda/lib/python3.6/site-packages/ipykernel/zmqshell.py in run_cell(self=<ipykernel.zmqshell.ZMQInteractiveShell object>, *args=('# fit on all testing data\\ny = np.reshape(y, newshape=-1)\\ngrid_result = clf_rf.fit(X, y)',), **kwargs={'silent': False, 'store_history': True})\n    528             )\n    529         self.payload_manager.write_payload(payload)\n    530 \n    531     def run_cell(self, *args, **kwargs):\n    532         self._last_traceback = None\n--> 533         return super(ZMQInteractiveShell, self).run_cell(*args, **kwargs)\n        self.run_cell = <bound method ZMQInteractiveShell.run_cell of <ipykernel.zmqshell.ZMQInteractiveShell object>>\n        args = ('# fit on all testing data\\ny = np.reshape(y, newshape=-1)\\ngrid_result = clf_rf.fit(X, y)',)\n        kwargs = {'silent': False, 'store_history': True}\n    534 \n    535     def _showtraceback(self, etype, evalue, stb):\n    536         # try to preserve ordering of tracebacks and print statements\n    537         sys.stdout.flush()\n\n...........................................................................\n/Users/Valcer/anaconda/lib/python3.6/site-packages/IPython/core/interactiveshell.py in run_cell(self=<ipykernel.zmqshell.ZMQInteractiveShell object>, raw_cell='# fit on all testing data\\ny = np.reshape(y, newshape=-1)\\ngrid_result = clf_rf.fit(X, y)', store_history=True, silent=False, shell_futures=True)\n   2712                 self.displayhook.exec_result = result\n   2713 \n   2714                 # Execute the user code\n   2715                 interactivity = \"none\" if silent else self.ast_node_interactivity\n   2716                 has_raised = self.run_ast_nodes(code_ast.body, cell_name,\n-> 2717                    interactivity=interactivity, compiler=compiler, result=result)\n        interactivity = 'last_expr'\n        compiler = <IPython.core.compilerop.CachingCompiler object>\n   2718                 \n   2719                 self.last_execution_succeeded = not has_raised\n   2720 \n   2721                 # Reset this so later displayed values do not modify the\n\n...........................................................................\n/Users/Valcer/anaconda/lib/python3.6/site-packages/IPython/core/interactiveshell.py in run_ast_nodes(self=<ipykernel.zmqshell.ZMQInteractiveShell object>, nodelist=[<_ast.Assign object>, <_ast.Assign object>], cell_name='<ipython-input-46-f05dbeaed07d>', interactivity='none', compiler=<IPython.core.compilerop.CachingCompiler object>, result=<ExecutionResult object at 1147970b8, execution_..._before_exec=None error_in_exec=None result=None>)\n   2816 \n   2817         try:\n   2818             for i, node in enumerate(to_run_exec):\n   2819                 mod = ast.Module([node])\n   2820                 code = compiler(mod, cell_name, \"exec\")\n-> 2821                 if self.run_code(code, result):\n        self.run_code = <bound method InteractiveShell.run_code of <ipykernel.zmqshell.ZMQInteractiveShell object>>\n        code = <code object <module> at 0x114161270, file \"<ipython-input-46-f05dbeaed07d>\", line 3>\n        result = <ExecutionResult object at 1147970b8, execution_..._before_exec=None error_in_exec=None result=None>\n   2822                     return True\n   2823 \n   2824             for i, node in enumerate(to_run_interactive):\n   2825                 mod = ast.Interactive([node])\n\n...........................................................................\n/Users/Valcer/anaconda/lib/python3.6/site-packages/IPython/core/interactiveshell.py in run_code(self=<ipykernel.zmqshell.ZMQInteractiveShell object>, code_obj=<code object <module> at 0x114161270, file \"<ipython-input-46-f05dbeaed07d>\", line 3>, result=<ExecutionResult object at 1147970b8, execution_..._before_exec=None error_in_exec=None result=None>)\n   2876         outflag = 1  # happens in more places, so it's easier as default\n   2877         try:\n   2878             try:\n   2879                 self.hooks.pre_run_code_hook()\n   2880                 #rprint('Running code', repr(code_obj)) # dbg\n-> 2881                 exec(code_obj, self.user_global_ns, self.user_ns)\n        code_obj = <code object <module> at 0x114161270, file \"<ipython-input-46-f05dbeaed07d>\", line 3>\n        self.user_global_ns = {'GridSearchCV': <class 'sklearn.model_selection._search.GridSearchCV'>, 'In': ['', \"# imports\\nimport os\\nimport pandas as pd\\nimport n...atetime\\n\\nget_ipython().magic('matplotlib inline')\", \"# load data\\ndata = pd.read_csv('VIX-Data-with-sentiment.csv')\", 'data.head()', \"# split data into X\\nX = data[['XIV','SPX','10-Da...       'Futures-Percent','compound','neg','pos']]\", 'X.head()', \"# split data into y\\ny = data[['VIX-Spike']]\", 'y.head()', '# split into train and test\\nX_train_split = X[:1...\\ny_train_split = y[:1368]\\ny_test_split = y[1368:]', 'X_train_split.head()', 'y_test_split.head()', '# clean up selections\\ny = np.array(y)\\ny = y.resh... = y_test_split.reshape(y_test_split.shape[0],-1)', \"# # VIX-Open vs VIX-Close\\n# X_blue = data[['Vix-Open','Vix-Close']]\\n# sns.pairplot(X_blue)\", '# VIX-Open vs VIX-Close -- color coded', \"# grid search -- use educated guesses for parame...   'reg_alpha':[0.01]\\n            }\\n            ]\", \"xgb_model = XGBClassifier(objective='binary:logi...edKFold(n_splits=5, shuffle=True, random_state=7)\", \"# run grid search\\nclf = GridSearchCV(estimator=x...coring='recall', n_jobs=4, cv=None, verbose=True)\", '# fit on all testing data\\ny = np.reshape(y, newshape=-1)\\ngrid_result = clf.fit(X, y)', '# best params\\nclf.best_params_', '# best params\\ngrid_result.best_params_', ...], 'Out': {3:      Date     XIV      SPX  10-Day-Rank  50-Day-... \n4  0.175889          0  \n\n[5 rows x 25 columns], 5:       XIV      SPX  10-Day-Rank  50-Day-Rank  10...  \n4  0.075556  0.175889  \n\n[5 rows x 22 columns], 7:    VIX-Spike\n0          0\n1          0\n2          1\n3          1\n4          0, 9:       XIV      SPX  10-Day-Rank  50-Day-Rank  10...  \n4  0.075556  0.175889  \n\n[5 rows x 22 columns], 10:       VIX-Spike\n1368          0\n1369          0\n1370          0\n1371          0\n1372          0, 18: {'colsample_bytree': 0.8, 'gamma': 0, 'learning_rate': 0.1, 'max_depth': 20, 'min_child_weight': 3, 'n_estimators': 200, 'reg_alpha': 0.01, 'subsample': 1}, 19: {'colsample_bytree': 0.8, 'gamma': 0, 'learning_rate': 0.1, 'max_depth': 20, 'min_child_weight': 3, 'n_estimators': 200, 'reg_alpha': 0.01, 'subsample': 1}, 22: 1762, 24: (1762,), 27: (1261,), ...}, 'RandomForestClassifier': <class 'sklearn.ensemble.forest.RandomForestClassifier'>, 'SVC': <class 'sklearn.svm.classes.SVC'>, 'StratifiedKFold': <class 'sklearn.model_selection._split.StratifiedKFold'>, 'X':            XIV      SPX  10-Day-Rank  50-Day-Ran...N       NaN       NaN  \n\n[1762 rows x 22 columns], 'XGBClassifier': <class 'xgboost.sklearn.XGBClassifier'>, 'X_test':       XIV  SPX  10-Day-Rank  50-Day-Rank  10-Day... NaN       NaN  NaN  NaN  \n\n[1 rows x 22 columns], 'X_test_split':          XIV      SPX  10-Day-Rank  50-Day-Rank ...aN       NaN       NaN  \n\n[394 rows x 22 columns], ...}\n        self.user_ns = {'GridSearchCV': <class 'sklearn.model_selection._search.GridSearchCV'>, 'In': ['', \"# imports\\nimport os\\nimport pandas as pd\\nimport n...atetime\\n\\nget_ipython().magic('matplotlib inline')\", \"# load data\\ndata = pd.read_csv('VIX-Data-with-sentiment.csv')\", 'data.head()', \"# split data into X\\nX = data[['XIV','SPX','10-Da...       'Futures-Percent','compound','neg','pos']]\", 'X.head()', \"# split data into y\\ny = data[['VIX-Spike']]\", 'y.head()', '# split into train and test\\nX_train_split = X[:1...\\ny_train_split = y[:1368]\\ny_test_split = y[1368:]', 'X_train_split.head()', 'y_test_split.head()', '# clean up selections\\ny = np.array(y)\\ny = y.resh... = y_test_split.reshape(y_test_split.shape[0],-1)', \"# # VIX-Open vs VIX-Close\\n# X_blue = data[['Vix-Open','Vix-Close']]\\n# sns.pairplot(X_blue)\", '# VIX-Open vs VIX-Close -- color coded', \"# grid search -- use educated guesses for parame...   'reg_alpha':[0.01]\\n            }\\n            ]\", \"xgb_model = XGBClassifier(objective='binary:logi...edKFold(n_splits=5, shuffle=True, random_state=7)\", \"# run grid search\\nclf = GridSearchCV(estimator=x...coring='recall', n_jobs=4, cv=None, verbose=True)\", '# fit on all testing data\\ny = np.reshape(y, newshape=-1)\\ngrid_result = clf.fit(X, y)', '# best params\\nclf.best_params_', '# best params\\ngrid_result.best_params_', ...], 'Out': {3:      Date     XIV      SPX  10-Day-Rank  50-Day-... \n4  0.175889          0  \n\n[5 rows x 25 columns], 5:       XIV      SPX  10-Day-Rank  50-Day-Rank  10...  \n4  0.075556  0.175889  \n\n[5 rows x 22 columns], 7:    VIX-Spike\n0          0\n1          0\n2          1\n3          1\n4          0, 9:       XIV      SPX  10-Day-Rank  50-Day-Rank  10...  \n4  0.075556  0.175889  \n\n[5 rows x 22 columns], 10:       VIX-Spike\n1368          0\n1369          0\n1370          0\n1371          0\n1372          0, 18: {'colsample_bytree': 0.8, 'gamma': 0, 'learning_rate': 0.1, 'max_depth': 20, 'min_child_weight': 3, 'n_estimators': 200, 'reg_alpha': 0.01, 'subsample': 1}, 19: {'colsample_bytree': 0.8, 'gamma': 0, 'learning_rate': 0.1, 'max_depth': 20, 'min_child_weight': 3, 'n_estimators': 200, 'reg_alpha': 0.01, 'subsample': 1}, 22: 1762, 24: (1762,), 27: (1261,), ...}, 'RandomForestClassifier': <class 'sklearn.ensemble.forest.RandomForestClassifier'>, 'SVC': <class 'sklearn.svm.classes.SVC'>, 'StratifiedKFold': <class 'sklearn.model_selection._split.StratifiedKFold'>, 'X':            XIV      SPX  10-Day-Rank  50-Day-Ran...N       NaN       NaN  \n\n[1762 rows x 22 columns], 'XGBClassifier': <class 'xgboost.sklearn.XGBClassifier'>, 'X_test':       XIV  SPX  10-Day-Rank  50-Day-Rank  10-Day... NaN       NaN  NaN  NaN  \n\n[1 rows x 22 columns], 'X_test_split':          XIV      SPX  10-Day-Rank  50-Day-Rank ...aN       NaN       NaN  \n\n[394 rows x 22 columns], ...}\n   2882             finally:\n   2883                 # Reset our crash handler in place\n   2884                 sys.excepthook = old_excepthook\n   2885         except SystemExit as e:\n\n...........................................................................\n/Users/Valcer/Desktop/EE 461P/Project/<ipython-input-46-f05dbeaed07d> in <module>()\n      1 \n      2 \n----> 3 \n      4 # fit on all testing data\n      5 y = np.reshape(y, newshape=-1)\n      6 grid_result = clf_rf.fit(X, y)\n      7 \n      8 \n      9 \n     10 \n\n...........................................................................\n/Users/Valcer/anaconda/lib/python3.6/site-packages/sklearn/model_selection/_search.py in fit(self=GridSearchCV(cv=StratifiedKFold(n_splits=5, rand...core=True,\n       scoring='recall', verbose=True), X=           XIV      SPX  10-Day-Rank  50-Day-Ran...N       NaN       NaN  \n\n[1762 rows x 22 columns], y=array([0, 0, 1, ..., 0, 0, 0]), groups=None)\n    940 \n    941         groups : array-like, with shape (n_samples,), optional\n    942             Group labels for the samples used while splitting the dataset into\n    943             train/test set.\n    944         \"\"\"\n--> 945         return self._fit(X, y, groups, ParameterGrid(self.param_grid))\n        self._fit = <bound method BaseSearchCV._fit of GridSearchCV(...ore=True,\n       scoring='recall', verbose=True)>\n        X =            XIV      SPX  10-Day-Rank  50-Day-Ran...N       NaN       NaN  \n\n[1762 rows x 22 columns]\n        y = array([0, 0, 1, ..., 0, 0, 0])\n        groups = None\n        self.param_grid = [{'max_depth': [15], 'max_features': [16], 'n_estimators': [250]}]\n    946 \n    947 \n    948 class RandomizedSearchCV(BaseSearchCV):\n    949     \"\"\"Randomized search on hyper parameters.\n\n...........................................................................\n/Users/Valcer/anaconda/lib/python3.6/site-packages/sklearn/model_selection/_search.py in _fit(self=GridSearchCV(cv=StratifiedKFold(n_splits=5, rand...core=True,\n       scoring='recall', verbose=True), X=           XIV      SPX  10-Day-Rank  50-Day-Ran...N       NaN       NaN  \n\n[1762 rows x 22 columns], y=array([0, 0, 1, ..., 0, 0, 0]), groups=None, parameter_iterable=<sklearn.model_selection._search.ParameterGrid object>)\n    559                                   fit_params=self.fit_params,\n    560                                   return_train_score=self.return_train_score,\n    561                                   return_n_test_samples=True,\n    562                                   return_times=True, return_parameters=True,\n    563                                   error_score=self.error_score)\n--> 564           for parameters in parameter_iterable\n        parameters = undefined\n        parameter_iterable = <sklearn.model_selection._search.ParameterGrid object>\n    565           for train, test in cv_iter)\n    566 \n    567         # if one choose to see train score, \"out\" will contain train score info\n    568         if self.return_train_score:\n\n...........................................................................\n/Users/Valcer/anaconda/lib/python3.6/site-packages/sklearn/externals/joblib/parallel.py in __call__(self=Parallel(n_jobs=4), iterable=<generator object BaseSearchCV._fit.<locals>.<genexpr>>)\n    763             if pre_dispatch == \"all\" or n_jobs == 1:\n    764                 # The iterable was consumed all at once by the above for loop.\n    765                 # No need to wait for async callbacks to trigger to\n    766                 # consumption.\n    767                 self._iterating = False\n--> 768             self.retrieve()\n        self.retrieve = <bound method Parallel.retrieve of Parallel(n_jobs=4)>\n    769             # Make sure that we get a last message telling us we are done\n    770             elapsed_time = time.time() - self._start_time\n    771             self._print('Done %3i out of %3i | elapsed: %s finished',\n    772                         (len(self._output), len(self._output),\n\n---------------------------------------------------------------------------\nSub-process traceback:\n---------------------------------------------------------------------------\nValueError                                         Thu Dec 14 14:11:33 2017\nPID: 11822                  Python 3.6.1: /Users/Valcer/anaconda/bin/python\n...........................................................................\n/Users/Valcer/anaconda/lib/python3.6/site-packages/sklearn/externals/joblib/parallel.py in __call__(self=<sklearn.externals.joblib.parallel.BatchedCalls object>)\n    126     def __init__(self, iterator_slice):\n    127         self.items = list(iterator_slice)\n    128         self._size = len(self.items)\n    129 \n    130     def __call__(self):\n--> 131         return [func(*args, **kwargs) for func, args, kwargs in self.items]\n        self.items = [(<function _fit_and_score>, (RandomForestClassifier(bootstrap=True, class_wei...te=None,\n            verbose=1, warm_start=False),            XIV      SPX  10-Day-Rank  50-Day-Ran...N       NaN       NaN  \n\n[1762 rows x 22 columns], array([0, 0, 1, ..., 0, 0, 0]), make_scorer(recall_score), array([   0,    1,    2, ..., 1757, 1758, 1760]), array([   6,   11,   17,   19,   21,   24,   28,...1709, 1715, 1724, 1751, 1754,\n       1759, 1761]), True, {'max_depth': 15, 'max_features': 16, 'n_estimators': 250}), {'error_score': 'raise', 'fit_params': {}, 'return_n_test_samples': True, 'return_parameters': True, 'return_times': True, 'return_train_score': True})]\n    132 \n    133     def __len__(self):\n    134         return self._size\n    135 \n\n...........................................................................\n/Users/Valcer/anaconda/lib/python3.6/site-packages/sklearn/externals/joblib/parallel.py in <listcomp>(.0=<list_iterator object>)\n    126     def __init__(self, iterator_slice):\n    127         self.items = list(iterator_slice)\n    128         self._size = len(self.items)\n    129 \n    130     def __call__(self):\n--> 131         return [func(*args, **kwargs) for func, args, kwargs in self.items]\n        func = <function _fit_and_score>\n        args = (RandomForestClassifier(bootstrap=True, class_wei...te=None,\n            verbose=1, warm_start=False),            XIV      SPX  10-Day-Rank  50-Day-Ran...N       NaN       NaN  \n\n[1762 rows x 22 columns], array([0, 0, 1, ..., 0, 0, 0]), make_scorer(recall_score), array([   0,    1,    2, ..., 1757, 1758, 1760]), array([   6,   11,   17,   19,   21,   24,   28,...1709, 1715, 1724, 1751, 1754,\n       1759, 1761]), True, {'max_depth': 15, 'max_features': 16, 'n_estimators': 250})\n        kwargs = {'error_score': 'raise', 'fit_params': {}, 'return_n_test_samples': True, 'return_parameters': True, 'return_times': True, 'return_train_score': True}\n    132 \n    133     def __len__(self):\n    134         return self._size\n    135 \n\n...........................................................................\n/Users/Valcer/anaconda/lib/python3.6/site-packages/sklearn/model_selection/_validation.py in _fit_and_score(estimator=RandomForestClassifier(bootstrap=True, class_wei...te=None,\n            verbose=1, warm_start=False), X=           XIV      SPX  10-Day-Rank  50-Day-Ran...N       NaN       NaN  \n\n[1762 rows x 22 columns], y=array([0, 0, 1, ..., 0, 0, 0]), scorer=make_scorer(recall_score), train=array([   0,    1,    2, ..., 1757, 1758, 1760]), test=array([   6,   11,   17,   19,   21,   24,   28,...1709, 1715, 1724, 1751, 1754,\n       1759, 1761]), verbose=True, parameters={'max_depth': 15, 'max_features': 16, 'n_estimators': 250}, fit_params={}, return_train_score=True, return_parameters=True, return_n_test_samples=True, return_times=True, error_score='raise')\n    233 \n    234     try:\n    235         if y_train is None:\n    236             estimator.fit(X_train, **fit_params)\n    237         else:\n--> 238             estimator.fit(X_train, y_train, **fit_params)\n        estimator.fit = <bound method BaseForest.fit of RandomForestClas...e=None,\n            verbose=1, warm_start=False)>\n        X_train =            XIV      SPX  10-Day-Rank  50-Day-Ran...N       NaN       NaN  \n\n[1408 rows x 22 columns]\n        y_train = array([0, 0, 1, ..., 1, 0, 0])\n        fit_params = {}\n    239 \n    240     except Exception as e:\n    241         # Note fit time as time until error\n    242         fit_time = time.time() - start_time\n\n...........................................................................\n/Users/Valcer/anaconda/lib/python3.6/site-packages/sklearn/ensemble/forest.py in fit(self=RandomForestClassifier(bootstrap=True, class_wei...te=None,\n            verbose=1, warm_start=False), X=           XIV      SPX  10-Day-Rank  50-Day-Ran...N       NaN       NaN  \n\n[1408 rows x 22 columns], y=array([0, 0, 1, ..., 1, 0, 0]), sample_weight=None)\n    242         -------\n    243         self : object\n    244             Returns self.\n    245         \"\"\"\n    246         # Validate or convert input data\n--> 247         X = check_array(X, accept_sparse=\"csc\", dtype=DTYPE)\n        X =            XIV      SPX  10-Day-Rank  50-Day-Ran...N       NaN       NaN  \n\n[1408 rows x 22 columns]\n    248         y = check_array(y, accept_sparse='csc', ensure_2d=False, dtype=None)\n    249         if issparse(X):\n    250             # Pre-sort indices to avoid that each individual tree of the\n    251             # ensemble sorts the indices.\n\n...........................................................................\n/Users/Valcer/anaconda/lib/python3.6/site-packages/sklearn/utils/validation.py in check_array(array=array([[  1.23800001e+01,   1.25762000e+03,   4....          nan,              nan]], dtype=float32), accept_sparse=['csc'], dtype=<class 'numpy.float32'>, order=None, copy=False, force_all_finite=True, ensure_2d=True, allow_nd=False, ensure_min_samples=1, ensure_min_features=1, warn_on_dtype=False, estimator=None)\n    402             array = array.astype(np.float64)\n    403         if not allow_nd and array.ndim >= 3:\n    404             raise ValueError(\"Found array with dim %d. %s expected <= 2.\"\n    405                              % (array.ndim, estimator_name))\n    406         if force_all_finite:\n--> 407             _assert_all_finite(array)\n        array = array([[  1.23800001e+01,   1.25762000e+03,   4....          nan,              nan]], dtype=float32)\n    408 \n    409     shape_repr = _shape_repr(array.shape)\n    410     if ensure_min_samples > 0:\n    411         n_samples = _num_samples(array)\n\n...........................................................................\n/Users/Valcer/anaconda/lib/python3.6/site-packages/sklearn/utils/validation.py in _assert_all_finite(X=array([[  1.23800001e+01,   1.25762000e+03,   4....          nan,              nan]], dtype=float32))\n     53     # everything is finite; fall back to O(n) space np.isfinite to prevent\n     54     # false positives from overflow in sum method.\n     55     if (X.dtype.char in np.typecodes['AllFloat'] and not np.isfinite(X.sum())\n     56             and not np.isfinite(X).all()):\n     57         raise ValueError(\"Input contains NaN, infinity\"\n---> 58                          \" or a value too large for %r.\" % X.dtype)\n        X.dtype = dtype('float32')\n     59 \n     60 \n     61 def assert_all_finite(X):\n     62     \"\"\"Throw a ValueError if X contains NaN or infinity.\n\nValueError: Input contains NaN, infinity or a value too large for dtype('float32').\n___________________________________________________________________________",
     "output_type": "error",
     "traceback": [
      "\u001b[0;31m---------------------------------------------------------------------------\u001b[0m",
      "\u001b[0;31mRemoteTraceback\u001b[0m                           Traceback (most recent call last)",
      "\u001b[0;31mRemoteTraceback\u001b[0m: \n\"\"\"\nTraceback (most recent call last):\n  File \"/Users/Valcer/anaconda/lib/python3.6/site-packages/sklearn/externals/joblib/_parallel_backends.py\", line 344, in __call__\n    return self.func(*args, **kwargs)\n  File \"/Users/Valcer/anaconda/lib/python3.6/site-packages/sklearn/externals/joblib/parallel.py\", line 131, in __call__\n    return [func(*args, **kwargs) for func, args, kwargs in self.items]\n  File \"/Users/Valcer/anaconda/lib/python3.6/site-packages/sklearn/externals/joblib/parallel.py\", line 131, in <listcomp>\n    return [func(*args, **kwargs) for func, args, kwargs in self.items]\n  File \"/Users/Valcer/anaconda/lib/python3.6/site-packages/sklearn/model_selection/_validation.py\", line 238, in _fit_and_score\n    estimator.fit(X_train, y_train, **fit_params)\n  File \"/Users/Valcer/anaconda/lib/python3.6/site-packages/sklearn/ensemble/forest.py\", line 247, in fit\n    X = check_array(X, accept_sparse=\"csc\", dtype=DTYPE)\n  File \"/Users/Valcer/anaconda/lib/python3.6/site-packages/sklearn/utils/validation.py\", line 407, in check_array\n    _assert_all_finite(array)\n  File \"/Users/Valcer/anaconda/lib/python3.6/site-packages/sklearn/utils/validation.py\", line 58, in _assert_all_finite\n    \" or a value too large for %r.\" % X.dtype)\nValueError: Input contains NaN, infinity or a value too large for dtype('float32').\n\nDuring handling of the above exception, another exception occurred:\n\nTraceback (most recent call last):\n  File \"/Users/Valcer/anaconda/lib/python3.6/multiprocessing/pool.py\", line 119, in worker\n    result = (True, func(*args, **kwds))\n  File \"/Users/Valcer/anaconda/lib/python3.6/site-packages/sklearn/externals/joblib/_parallel_backends.py\", line 353, in __call__\n    raise TransportableException(text, e_type)\nsklearn.externals.joblib.my_exceptions.TransportableException: TransportableException\n___________________________________________________________________________\nValueError                                         Thu Dec 14 14:11:33 2017\nPID: 11822                  Python 3.6.1: /Users/Valcer/anaconda/bin/python\n...........................................................................\n/Users/Valcer/anaconda/lib/python3.6/site-packages/sklearn/externals/joblib/parallel.py in __call__(self=<sklearn.externals.joblib.parallel.BatchedCalls object>)\n    126     def __init__(self, iterator_slice):\n    127         self.items = list(iterator_slice)\n    128         self._size = len(self.items)\n    129 \n    130     def __call__(self):\n--> 131         return [func(*args, **kwargs) for func, args, kwargs in self.items]\n        self.items = [(<function _fit_and_score>, (RandomForestClassifier(bootstrap=True, class_wei...te=None,\n            verbose=1, warm_start=False),            XIV      SPX  10-Day-Rank  50-Day-Ran...N       NaN       NaN  \n\n[1762 rows x 22 columns], array([0, 0, 1, ..., 0, 0, 0]), make_scorer(recall_score), array([   0,    1,    2, ..., 1757, 1758, 1760]), array([   6,   11,   17,   19,   21,   24,   28,...1709, 1715, 1724, 1751, 1754,\n       1759, 1761]), True, {'max_depth': 15, 'max_features': 16, 'n_estimators': 250}), {'error_score': 'raise', 'fit_params': {}, 'return_n_test_samples': True, 'return_parameters': True, 'return_times': True, 'return_train_score': True})]\n    132 \n    133     def __len__(self):\n    134         return self._size\n    135 \n\n...........................................................................\n/Users/Valcer/anaconda/lib/python3.6/site-packages/sklearn/externals/joblib/parallel.py in <listcomp>(.0=<list_iterator object>)\n    126     def __init__(self, iterator_slice):\n    127         self.items = list(iterator_slice)\n    128         self._size = len(self.items)\n    129 \n    130     def __call__(self):\n--> 131         return [func(*args, **kwargs) for func, args, kwargs in self.items]\n        func = <function _fit_and_score>\n        args = (RandomForestClassifier(bootstrap=True, class_wei...te=None,\n            verbose=1, warm_start=False),            XIV      SPX  10-Day-Rank  50-Day-Ran...N       NaN       NaN  \n\n[1762 rows x 22 columns], array([0, 0, 1, ..., 0, 0, 0]), make_scorer(recall_score), array([   0,    1,    2, ..., 1757, 1758, 1760]), array([   6,   11,   17,   19,   21,   24,   28,...1709, 1715, 1724, 1751, 1754,\n       1759, 1761]), True, {'max_depth': 15, 'max_features': 16, 'n_estimators': 250})\n        kwargs = {'error_score': 'raise', 'fit_params': {}, 'return_n_test_samples': True, 'return_parameters': True, 'return_times': True, 'return_train_score': True}\n    132 \n    133     def __len__(self):\n    134         return self._size\n    135 \n\n...........................................................................\n/Users/Valcer/anaconda/lib/python3.6/site-packages/sklearn/model_selection/_validation.py in _fit_and_score(estimator=RandomForestClassifier(bootstrap=True, class_wei...te=None,\n            verbose=1, warm_start=False), X=           XIV      SPX  10-Day-Rank  50-Day-Ran...N       NaN       NaN  \n\n[1762 rows x 22 columns], y=array([0, 0, 1, ..., 0, 0, 0]), scorer=make_scorer(recall_score), train=array([   0,    1,    2, ..., 1757, 1758, 1760]), test=array([   6,   11,   17,   19,   21,   24,   28,...1709, 1715, 1724, 1751, 1754,\n       1759, 1761]), verbose=True, parameters={'max_depth': 15, 'max_features': 16, 'n_estimators': 250}, fit_params={}, return_train_score=True, return_parameters=True, return_n_test_samples=True, return_times=True, error_score='raise')\n    233 \n    234     try:\n    235         if y_train is None:\n    236             estimator.fit(X_train, **fit_params)\n    237         else:\n--> 238             estimator.fit(X_train, y_train, **fit_params)\n        estimator.fit = <bound method BaseForest.fit of RandomForestClas...e=None,\n            verbose=1, warm_start=False)>\n        X_train =            XIV      SPX  10-Day-Rank  50-Day-Ran...N       NaN       NaN  \n\n[1408 rows x 22 columns]\n        y_train = array([0, 0, 1, ..., 1, 0, 0])\n        fit_params = {}\n    239 \n    240     except Exception as e:\n    241         # Note fit time as time until error\n    242         fit_time = time.time() - start_time\n\n...........................................................................\n/Users/Valcer/anaconda/lib/python3.6/site-packages/sklearn/ensemble/forest.py in fit(self=RandomForestClassifier(bootstrap=True, class_wei...te=None,\n            verbose=1, warm_start=False), X=           XIV      SPX  10-Day-Rank  50-Day-Ran...N       NaN       NaN  \n\n[1408 rows x 22 columns], y=array([0, 0, 1, ..., 1, 0, 0]), sample_weight=None)\n    242         -------\n    243         self : object\n    244             Returns self.\n    245         \"\"\"\n    246         # Validate or convert input data\n--> 247         X = check_array(X, accept_sparse=\"csc\", dtype=DTYPE)\n        X =            XIV      SPX  10-Day-Rank  50-Day-Ran...N       NaN       NaN  \n\n[1408 rows x 22 columns]\n    248         y = check_array(y, accept_sparse='csc', ensure_2d=False, dtype=None)\n    249         if issparse(X):\n    250             # Pre-sort indices to avoid that each individual tree of the\n    251             # ensemble sorts the indices.\n\n...........................................................................\n/Users/Valcer/anaconda/lib/python3.6/site-packages/sklearn/utils/validation.py in check_array(array=array([[  1.23800001e+01,   1.25762000e+03,   4....          nan,              nan]], dtype=float32), accept_sparse=['csc'], dtype=<class 'numpy.float32'>, order=None, copy=False, force_all_finite=True, ensure_2d=True, allow_nd=False, ensure_min_samples=1, ensure_min_features=1, warn_on_dtype=False, estimator=None)\n    402             array = array.astype(np.float64)\n    403         if not allow_nd and array.ndim >= 3:\n    404             raise ValueError(\"Found array with dim %d. %s expected <= 2.\"\n    405                              % (array.ndim, estimator_name))\n    406         if force_all_finite:\n--> 407             _assert_all_finite(array)\n        array = array([[  1.23800001e+01,   1.25762000e+03,   4....          nan,              nan]], dtype=float32)\n    408 \n    409     shape_repr = _shape_repr(array.shape)\n    410     if ensure_min_samples > 0:\n    411         n_samples = _num_samples(array)\n\n...........................................................................\n/Users/Valcer/anaconda/lib/python3.6/site-packages/sklearn/utils/validation.py in _assert_all_finite(X=array([[  1.23800001e+01,   1.25762000e+03,   4....          nan,              nan]], dtype=float32))\n     53     # everything is finite; fall back to O(n) space np.isfinite to prevent\n     54     # false positives from overflow in sum method.\n     55     if (X.dtype.char in np.typecodes['AllFloat'] and not np.isfinite(X.sum())\n     56             and not np.isfinite(X).all()):\n     57         raise ValueError(\"Input contains NaN, infinity\"\n---> 58                          \" or a value too large for %r.\" % X.dtype)\n        X.dtype = dtype('float32')\n     59 \n     60 \n     61 def assert_all_finite(X):\n     62     \"\"\"Throw a ValueError if X contains NaN or infinity.\n\nValueError: Input contains NaN, infinity or a value too large for dtype('float32').\n___________________________________________________________________________\n\"\"\"",
      "\nThe above exception was the direct cause of the following exception:\n",
      "\u001b[0;31mTransportableException\u001b[0m                    Traceback (most recent call last)",
      "\u001b[0;32m/Users/Valcer/anaconda/lib/python3.6/site-packages/sklearn/externals/joblib/parallel.py\u001b[0m in \u001b[0;36mretrieve\u001b[0;34m(self)\u001b[0m\n\u001b[1;32m    681\u001b[0m                 \u001b[0;32mif\u001b[0m \u001b[0;34m'timeout'\u001b[0m \u001b[0;32min\u001b[0m \u001b[0mgetfullargspec\u001b[0m\u001b[0;34m(\u001b[0m\u001b[0mjob\u001b[0m\u001b[0;34m.\u001b[0m\u001b[0mget\u001b[0m\u001b[0;34m)\u001b[0m\u001b[0;34m.\u001b[0m\u001b[0margs\u001b[0m\u001b[0;34m:\u001b[0m\u001b[0;34m\u001b[0m\u001b[0m\n\u001b[0;32m--> 682\u001b[0;31m                     \u001b[0mself\u001b[0m\u001b[0;34m.\u001b[0m\u001b[0m_output\u001b[0m\u001b[0;34m.\u001b[0m\u001b[0mextend\u001b[0m\u001b[0;34m(\u001b[0m\u001b[0mjob\u001b[0m\u001b[0;34m.\u001b[0m\u001b[0mget\u001b[0m\u001b[0;34m(\u001b[0m\u001b[0mtimeout\u001b[0m\u001b[0;34m=\u001b[0m\u001b[0mself\u001b[0m\u001b[0;34m.\u001b[0m\u001b[0mtimeout\u001b[0m\u001b[0;34m)\u001b[0m\u001b[0;34m)\u001b[0m\u001b[0;34m\u001b[0m\u001b[0m\n\u001b[0m\u001b[1;32m    683\u001b[0m                 \u001b[0;32melse\u001b[0m\u001b[0;34m:\u001b[0m\u001b[0;34m\u001b[0m\u001b[0m\n",
      "\u001b[0;32m/Users/Valcer/anaconda/lib/python3.6/multiprocessing/pool.py\u001b[0m in \u001b[0;36mget\u001b[0;34m(self, timeout)\u001b[0m\n\u001b[1;32m    607\u001b[0m         \u001b[0;32melse\u001b[0m\u001b[0;34m:\u001b[0m\u001b[0;34m\u001b[0m\u001b[0m\n\u001b[0;32m--> 608\u001b[0;31m             \u001b[0;32mraise\u001b[0m \u001b[0mself\u001b[0m\u001b[0;34m.\u001b[0m\u001b[0m_value\u001b[0m\u001b[0;34m\u001b[0m\u001b[0m\n\u001b[0m\u001b[1;32m    609\u001b[0m \u001b[0;34m\u001b[0m\u001b[0m\n",
      "\u001b[0;31mTransportableException\u001b[0m: TransportableException\n___________________________________________________________________________\nValueError                                         Thu Dec 14 14:11:33 2017\nPID: 11822                  Python 3.6.1: /Users/Valcer/anaconda/bin/python\n...........................................................................\n/Users/Valcer/anaconda/lib/python3.6/site-packages/sklearn/externals/joblib/parallel.py in __call__(self=<sklearn.externals.joblib.parallel.BatchedCalls object>)\n    126     def __init__(self, iterator_slice):\n    127         self.items = list(iterator_slice)\n    128         self._size = len(self.items)\n    129 \n    130     def __call__(self):\n--> 131         return [func(*args, **kwargs) for func, args, kwargs in self.items]\n        self.items = [(<function _fit_and_score>, (RandomForestClassifier(bootstrap=True, class_wei...te=None,\n            verbose=1, warm_start=False),            XIV      SPX  10-Day-Rank  50-Day-Ran...N       NaN       NaN  \n\n[1762 rows x 22 columns], array([0, 0, 1, ..., 0, 0, 0]), make_scorer(recall_score), array([   0,    1,    2, ..., 1757, 1758, 1760]), array([   6,   11,   17,   19,   21,   24,   28,...1709, 1715, 1724, 1751, 1754,\n       1759, 1761]), True, {'max_depth': 15, 'max_features': 16, 'n_estimators': 250}), {'error_score': 'raise', 'fit_params': {}, 'return_n_test_samples': True, 'return_parameters': True, 'return_times': True, 'return_train_score': True})]\n    132 \n    133     def __len__(self):\n    134         return self._size\n    135 \n\n...........................................................................\n/Users/Valcer/anaconda/lib/python3.6/site-packages/sklearn/externals/joblib/parallel.py in <listcomp>(.0=<list_iterator object>)\n    126     def __init__(self, iterator_slice):\n    127         self.items = list(iterator_slice)\n    128         self._size = len(self.items)\n    129 \n    130     def __call__(self):\n--> 131         return [func(*args, **kwargs) for func, args, kwargs in self.items]\n        func = <function _fit_and_score>\n        args = (RandomForestClassifier(bootstrap=True, class_wei...te=None,\n            verbose=1, warm_start=False),            XIV      SPX  10-Day-Rank  50-Day-Ran...N       NaN       NaN  \n\n[1762 rows x 22 columns], array([0, 0, 1, ..., 0, 0, 0]), make_scorer(recall_score), array([   0,    1,    2, ..., 1757, 1758, 1760]), array([   6,   11,   17,   19,   21,   24,   28,...1709, 1715, 1724, 1751, 1754,\n       1759, 1761]), True, {'max_depth': 15, 'max_features': 16, 'n_estimators': 250})\n        kwargs = {'error_score': 'raise', 'fit_params': {}, 'return_n_test_samples': True, 'return_parameters': True, 'return_times': True, 'return_train_score': True}\n    132 \n    133     def __len__(self):\n    134         return self._size\n    135 \n\n...........................................................................\n/Users/Valcer/anaconda/lib/python3.6/site-packages/sklearn/model_selection/_validation.py in _fit_and_score(estimator=RandomForestClassifier(bootstrap=True, class_wei...te=None,\n            verbose=1, warm_start=False), X=           XIV      SPX  10-Day-Rank  50-Day-Ran...N       NaN       NaN  \n\n[1762 rows x 22 columns], y=array([0, 0, 1, ..., 0, 0, 0]), scorer=make_scorer(recall_score), train=array([   0,    1,    2, ..., 1757, 1758, 1760]), test=array([   6,   11,   17,   19,   21,   24,   28,...1709, 1715, 1724, 1751, 1754,\n       1759, 1761]), verbose=True, parameters={'max_depth': 15, 'max_features': 16, 'n_estimators': 250}, fit_params={}, return_train_score=True, return_parameters=True, return_n_test_samples=True, return_times=True, error_score='raise')\n    233 \n    234     try:\n    235         if y_train is None:\n    236             estimator.fit(X_train, **fit_params)\n    237         else:\n--> 238             estimator.fit(X_train, y_train, **fit_params)\n        estimator.fit = <bound method BaseForest.fit of RandomForestClas...e=None,\n            verbose=1, warm_start=False)>\n        X_train =            XIV      SPX  10-Day-Rank  50-Day-Ran...N       NaN       NaN  \n\n[1408 rows x 22 columns]\n        y_train = array([0, 0, 1, ..., 1, 0, 0])\n        fit_params = {}\n    239 \n    240     except Exception as e:\n    241         # Note fit time as time until error\n    242         fit_time = time.time() - start_time\n\n...........................................................................\n/Users/Valcer/anaconda/lib/python3.6/site-packages/sklearn/ensemble/forest.py in fit(self=RandomForestClassifier(bootstrap=True, class_wei...te=None,\n            verbose=1, warm_start=False), X=           XIV      SPX  10-Day-Rank  50-Day-Ran...N       NaN       NaN  \n\n[1408 rows x 22 columns], y=array([0, 0, 1, ..., 1, 0, 0]), sample_weight=None)\n    242         -------\n    243         self : object\n    244             Returns self.\n    245         \"\"\"\n    246         # Validate or convert input data\n--> 247         X = check_array(X, accept_sparse=\"csc\", dtype=DTYPE)\n        X =            XIV      SPX  10-Day-Rank  50-Day-Ran...N       NaN       NaN  \n\n[1408 rows x 22 columns]\n    248         y = check_array(y, accept_sparse='csc', ensure_2d=False, dtype=None)\n    249         if issparse(X):\n    250             # Pre-sort indices to avoid that each individual tree of the\n    251             # ensemble sorts the indices.\n\n...........................................................................\n/Users/Valcer/anaconda/lib/python3.6/site-packages/sklearn/utils/validation.py in check_array(array=array([[  1.23800001e+01,   1.25762000e+03,   4....          nan,              nan]], dtype=float32), accept_sparse=['csc'], dtype=<class 'numpy.float32'>, order=None, copy=False, force_all_finite=True, ensure_2d=True, allow_nd=False, ensure_min_samples=1, ensure_min_features=1, warn_on_dtype=False, estimator=None)\n    402             array = array.astype(np.float64)\n    403         if not allow_nd and array.ndim >= 3:\n    404             raise ValueError(\"Found array with dim %d. %s expected <= 2.\"\n    405                              % (array.ndim, estimator_name))\n    406         if force_all_finite:\n--> 407             _assert_all_finite(array)\n        array = array([[  1.23800001e+01,   1.25762000e+03,   4....          nan,              nan]], dtype=float32)\n    408 \n    409     shape_repr = _shape_repr(array.shape)\n    410     if ensure_min_samples > 0:\n    411         n_samples = _num_samples(array)\n\n...........................................................................\n/Users/Valcer/anaconda/lib/python3.6/site-packages/sklearn/utils/validation.py in _assert_all_finite(X=array([[  1.23800001e+01,   1.25762000e+03,   4....          nan,              nan]], dtype=float32))\n     53     # everything is finite; fall back to O(n) space np.isfinite to prevent\n     54     # false positives from overflow in sum method.\n     55     if (X.dtype.char in np.typecodes['AllFloat'] and not np.isfinite(X.sum())\n     56             and not np.isfinite(X).all()):\n     57         raise ValueError(\"Input contains NaN, infinity\"\n---> 58                          \" or a value too large for %r.\" % X.dtype)\n        X.dtype = dtype('float32')\n     59 \n     60 \n     61 def assert_all_finite(X):\n     62     \"\"\"Throw a ValueError if X contains NaN or infinity.\n\nValueError: Input contains NaN, infinity or a value too large for dtype('float32').\n___________________________________________________________________________",
      "\nDuring handling of the above exception, another exception occurred:\n",
      "\u001b[0;31mJoblibValueError\u001b[0m                          Traceback (most recent call last)",
      "\u001b[0;32m<ipython-input-46-f05dbeaed07d>\u001b[0m in \u001b[0;36m<module>\u001b[0;34m()\u001b[0m\n\u001b[1;32m      1\u001b[0m \u001b[0;31m# fit on all testing data\u001b[0m\u001b[0;34m\u001b[0m\u001b[0;34m\u001b[0m\u001b[0m\n\u001b[1;32m      2\u001b[0m \u001b[0my\u001b[0m \u001b[0;34m=\u001b[0m \u001b[0mnp\u001b[0m\u001b[0;34m.\u001b[0m\u001b[0mreshape\u001b[0m\u001b[0;34m(\u001b[0m\u001b[0my\u001b[0m\u001b[0;34m,\u001b[0m \u001b[0mnewshape\u001b[0m\u001b[0;34m=\u001b[0m\u001b[0;34m-\u001b[0m\u001b[0;36m1\u001b[0m\u001b[0;34m)\u001b[0m\u001b[0;34m\u001b[0m\u001b[0m\n\u001b[0;32m----> 3\u001b[0;31m \u001b[0mgrid_result\u001b[0m \u001b[0;34m=\u001b[0m \u001b[0mclf_rf\u001b[0m\u001b[0;34m.\u001b[0m\u001b[0mfit\u001b[0m\u001b[0;34m(\u001b[0m\u001b[0mX\u001b[0m\u001b[0;34m,\u001b[0m \u001b[0my\u001b[0m\u001b[0;34m)\u001b[0m\u001b[0;34m\u001b[0m\u001b[0m\n\u001b[0m",
      "\u001b[0;32m/Users/Valcer/anaconda/lib/python3.6/site-packages/sklearn/model_selection/_search.py\u001b[0m in \u001b[0;36mfit\u001b[0;34m(self, X, y, groups)\u001b[0m\n\u001b[1;32m    943\u001b[0m             \u001b[0mtrain\u001b[0m\u001b[0;34m/\u001b[0m\u001b[0mtest\u001b[0m \u001b[0mset\u001b[0m\u001b[0;34m.\u001b[0m\u001b[0;34m\u001b[0m\u001b[0m\n\u001b[1;32m    944\u001b[0m         \"\"\"\n\u001b[0;32m--> 945\u001b[0;31m         \u001b[0;32mreturn\u001b[0m \u001b[0mself\u001b[0m\u001b[0;34m.\u001b[0m\u001b[0m_fit\u001b[0m\u001b[0;34m(\u001b[0m\u001b[0mX\u001b[0m\u001b[0;34m,\u001b[0m \u001b[0my\u001b[0m\u001b[0;34m,\u001b[0m \u001b[0mgroups\u001b[0m\u001b[0;34m,\u001b[0m \u001b[0mParameterGrid\u001b[0m\u001b[0;34m(\u001b[0m\u001b[0mself\u001b[0m\u001b[0;34m.\u001b[0m\u001b[0mparam_grid\u001b[0m\u001b[0;34m)\u001b[0m\u001b[0;34m)\u001b[0m\u001b[0;34m\u001b[0m\u001b[0m\n\u001b[0m\u001b[1;32m    946\u001b[0m \u001b[0;34m\u001b[0m\u001b[0m\n\u001b[1;32m    947\u001b[0m \u001b[0;34m\u001b[0m\u001b[0m\n",
      "\u001b[0;32m/Users/Valcer/anaconda/lib/python3.6/site-packages/sklearn/model_selection/_search.py\u001b[0m in \u001b[0;36m_fit\u001b[0;34m(self, X, y, groups, parameter_iterable)\u001b[0m\n\u001b[1;32m    562\u001b[0m                                   \u001b[0mreturn_times\u001b[0m\u001b[0;34m=\u001b[0m\u001b[0;32mTrue\u001b[0m\u001b[0;34m,\u001b[0m \u001b[0mreturn_parameters\u001b[0m\u001b[0;34m=\u001b[0m\u001b[0;32mTrue\u001b[0m\u001b[0;34m,\u001b[0m\u001b[0;34m\u001b[0m\u001b[0m\n\u001b[1;32m    563\u001b[0m                                   error_score=self.error_score)\n\u001b[0;32m--> 564\u001b[0;31m           \u001b[0;32mfor\u001b[0m \u001b[0mparameters\u001b[0m \u001b[0;32min\u001b[0m \u001b[0mparameter_iterable\u001b[0m\u001b[0;34m\u001b[0m\u001b[0m\n\u001b[0m\u001b[1;32m    565\u001b[0m           for train, test in cv_iter)\n\u001b[1;32m    566\u001b[0m \u001b[0;34m\u001b[0m\u001b[0m\n",
      "\u001b[0;32m/Users/Valcer/anaconda/lib/python3.6/site-packages/sklearn/externals/joblib/parallel.py\u001b[0m in \u001b[0;36m__call__\u001b[0;34m(self, iterable)\u001b[0m\n\u001b[1;32m    766\u001b[0m                 \u001b[0;31m# consumption.\u001b[0m\u001b[0;34m\u001b[0m\u001b[0;34m\u001b[0m\u001b[0m\n\u001b[1;32m    767\u001b[0m                 \u001b[0mself\u001b[0m\u001b[0;34m.\u001b[0m\u001b[0m_iterating\u001b[0m \u001b[0;34m=\u001b[0m \u001b[0;32mFalse\u001b[0m\u001b[0;34m\u001b[0m\u001b[0m\n\u001b[0;32m--> 768\u001b[0;31m             \u001b[0mself\u001b[0m\u001b[0;34m.\u001b[0m\u001b[0mretrieve\u001b[0m\u001b[0;34m(\u001b[0m\u001b[0;34m)\u001b[0m\u001b[0;34m\u001b[0m\u001b[0m\n\u001b[0m\u001b[1;32m    769\u001b[0m             \u001b[0;31m# Make sure that we get a last message telling us we are done\u001b[0m\u001b[0;34m\u001b[0m\u001b[0;34m\u001b[0m\u001b[0m\n\u001b[1;32m    770\u001b[0m             \u001b[0melapsed_time\u001b[0m \u001b[0;34m=\u001b[0m \u001b[0mtime\u001b[0m\u001b[0;34m.\u001b[0m\u001b[0mtime\u001b[0m\u001b[0;34m(\u001b[0m\u001b[0;34m)\u001b[0m \u001b[0;34m-\u001b[0m \u001b[0mself\u001b[0m\u001b[0;34m.\u001b[0m\u001b[0m_start_time\u001b[0m\u001b[0;34m\u001b[0m\u001b[0m\n",
      "\u001b[0;32m/Users/Valcer/anaconda/lib/python3.6/site-packages/sklearn/externals/joblib/parallel.py\u001b[0m in \u001b[0;36mretrieve\u001b[0;34m(self)\u001b[0m\n\u001b[1;32m    717\u001b[0m                     \u001b[0mensure_ready\u001b[0m \u001b[0;34m=\u001b[0m \u001b[0mself\u001b[0m\u001b[0;34m.\u001b[0m\u001b[0m_managed_backend\u001b[0m\u001b[0;34m\u001b[0m\u001b[0m\n\u001b[1;32m    718\u001b[0m                     \u001b[0mbackend\u001b[0m\u001b[0;34m.\u001b[0m\u001b[0mabort_everything\u001b[0m\u001b[0;34m(\u001b[0m\u001b[0mensure_ready\u001b[0m\u001b[0;34m=\u001b[0m\u001b[0mensure_ready\u001b[0m\u001b[0;34m)\u001b[0m\u001b[0;34m\u001b[0m\u001b[0m\n\u001b[0;32m--> 719\u001b[0;31m                 \u001b[0;32mraise\u001b[0m \u001b[0mexception\u001b[0m\u001b[0;34m\u001b[0m\u001b[0m\n\u001b[0m\u001b[1;32m    720\u001b[0m \u001b[0;34m\u001b[0m\u001b[0m\n\u001b[1;32m    721\u001b[0m     \u001b[0;32mdef\u001b[0m \u001b[0m__call__\u001b[0m\u001b[0;34m(\u001b[0m\u001b[0mself\u001b[0m\u001b[0;34m,\u001b[0m \u001b[0miterable\u001b[0m\u001b[0;34m)\u001b[0m\u001b[0;34m:\u001b[0m\u001b[0;34m\u001b[0m\u001b[0m\n",
      "\u001b[0;31mJoblibValueError\u001b[0m: JoblibValueError\n___________________________________________________________________________\nMultiprocessing exception:\n...........................................................................\n/Users/Valcer/anaconda/lib/python3.6/runpy.py in _run_module_as_main(mod_name='ipykernel_launcher', alter_argv=1)\n    188         sys.exit(msg)\n    189     main_globals = sys.modules[\"__main__\"].__dict__\n    190     if alter_argv:\n    191         sys.argv[0] = mod_spec.origin\n    192     return _run_code(code, main_globals, None,\n--> 193                      \"__main__\", mod_spec)\n        mod_spec = ModuleSpec(name='ipykernel_launcher', loader=<_f...b/python3.6/site-packages/ipykernel_launcher.py')\n    194 \n    195 def run_module(mod_name, init_globals=None,\n    196                run_name=None, alter_sys=False):\n    197     \"\"\"Execute a module's code without importing it\n\n...........................................................................\n/Users/Valcer/anaconda/lib/python3.6/runpy.py in _run_code(code=<code object <module> at 0x105794150, file \"/Use...3.6/site-packages/ipykernel_launcher.py\", line 5>, run_globals={'__annotations__': {}, '__builtins__': <module 'builtins' (built-in)>, '__cached__': '/Users/Valcer/anaconda/lib/python3.6/site-packages/__pycache__/ipykernel_launcher.cpython-36.pyc', '__doc__': 'Entry point for launching an IPython kernel.\\n\\nTh...orts until\\nafter removing the cwd from sys.path.\\n', '__file__': '/Users/Valcer/anaconda/lib/python3.6/site-packages/ipykernel_launcher.py', '__loader__': <_frozen_importlib_external.SourceFileLoader object>, '__name__': '__main__', '__package__': '', '__spec__': ModuleSpec(name='ipykernel_launcher', loader=<_f...b/python3.6/site-packages/ipykernel_launcher.py'), 'app': <module 'ipykernel.kernelapp' from '/Users/Valce.../python3.6/site-packages/ipykernel/kernelapp.py'>, ...}, init_globals=None, mod_name='__main__', mod_spec=ModuleSpec(name='ipykernel_launcher', loader=<_f...b/python3.6/site-packages/ipykernel_launcher.py'), pkg_name='', script_name=None)\n     80                        __cached__ = cached,\n     81                        __doc__ = None,\n     82                        __loader__ = loader,\n     83                        __package__ = pkg_name,\n     84                        __spec__ = mod_spec)\n---> 85     exec(code, run_globals)\n        code = <code object <module> at 0x105794150, file \"/Use...3.6/site-packages/ipykernel_launcher.py\", line 5>\n        run_globals = {'__annotations__': {}, '__builtins__': <module 'builtins' (built-in)>, '__cached__': '/Users/Valcer/anaconda/lib/python3.6/site-packages/__pycache__/ipykernel_launcher.cpython-36.pyc', '__doc__': 'Entry point for launching an IPython kernel.\\n\\nTh...orts until\\nafter removing the cwd from sys.path.\\n', '__file__': '/Users/Valcer/anaconda/lib/python3.6/site-packages/ipykernel_launcher.py', '__loader__': <_frozen_importlib_external.SourceFileLoader object>, '__name__': '__main__', '__package__': '', '__spec__': ModuleSpec(name='ipykernel_launcher', loader=<_f...b/python3.6/site-packages/ipykernel_launcher.py'), 'app': <module 'ipykernel.kernelapp' from '/Users/Valce.../python3.6/site-packages/ipykernel/kernelapp.py'>, ...}\n     86     return run_globals\n     87 \n     88 def _run_module_code(code, init_globals=None,\n     89                     mod_name=None, mod_spec=None,\n\n...........................................................................\n/Users/Valcer/anaconda/lib/python3.6/site-packages/ipykernel_launcher.py in <module>()\n     11     # This is added back by InteractiveShellApp.init_path()\n     12     if sys.path[0] == '':\n     13         del sys.path[0]\n     14 \n     15     from ipykernel import kernelapp as app\n---> 16     app.launch_new_instance()\n     17 \n     18 \n     19 \n     20 \n\n...........................................................................\n/Users/Valcer/anaconda/lib/python3.6/site-packages/traitlets/config/application.py in launch_instance(cls=<class 'ipykernel.kernelapp.IPKernelApp'>, argv=None, **kwargs={})\n    653 \n    654         If a global instance already exists, this reinitializes and starts it\n    655         \"\"\"\n    656         app = cls.instance(**kwargs)\n    657         app.initialize(argv)\n--> 658         app.start()\n        app.start = <bound method IPKernelApp.start of <ipykernel.kernelapp.IPKernelApp object>>\n    659 \n    660 #-----------------------------------------------------------------------------\n    661 # utility functions, for convenience\n    662 #-----------------------------------------------------------------------------\n\n...........................................................................\n/Users/Valcer/anaconda/lib/python3.6/site-packages/ipykernel/kernelapp.py in start(self=<ipykernel.kernelapp.IPKernelApp object>)\n    472             return self.subapp.start()\n    473         if self.poller is not None:\n    474             self.poller.start()\n    475         self.kernel.start()\n    476         try:\n--> 477             ioloop.IOLoop.instance().start()\n    478         except KeyboardInterrupt:\n    479             pass\n    480 \n    481 launch_new_instance = IPKernelApp.launch_instance\n\n...........................................................................\n/Users/Valcer/anaconda/lib/python3.6/site-packages/zmq/eventloop/ioloop.py in start(self=<zmq.eventloop.ioloop.ZMQIOLoop object>)\n    172             )\n    173         return loop\n    174     \n    175     def start(self):\n    176         try:\n--> 177             super(ZMQIOLoop, self).start()\n        self.start = <bound method ZMQIOLoop.start of <zmq.eventloop.ioloop.ZMQIOLoop object>>\n    178         except ZMQError as e:\n    179             if e.errno == ETERM:\n    180                 # quietly return on ETERM\n    181                 pass\n\n...........................................................................\n/Users/Valcer/anaconda/lib/python3.6/site-packages/tornado/ioloop.py in start(self=<zmq.eventloop.ioloop.ZMQIOLoop object>)\n    883                 self._events.update(event_pairs)\n    884                 while self._events:\n    885                     fd, events = self._events.popitem()\n    886                     try:\n    887                         fd_obj, handler_func = self._handlers[fd]\n--> 888                         handler_func(fd_obj, events)\n        handler_func = <function wrap.<locals>.null_wrapper>\n        fd_obj = <zmq.sugar.socket.Socket object>\n        events = 5\n    889                     except (OSError, IOError) as e:\n    890                         if errno_from_exception(e) == errno.EPIPE:\n    891                             # Happens when the client closes the connection\n    892                             pass\n\n...........................................................................\n/Users/Valcer/anaconda/lib/python3.6/site-packages/tornado/stack_context.py in null_wrapper(*args=(<zmq.sugar.socket.Socket object>, 5), **kwargs={})\n    272         # Fast path when there are no active contexts.\n    273         def null_wrapper(*args, **kwargs):\n    274             try:\n    275                 current_state = _state.contexts\n    276                 _state.contexts = cap_contexts[0]\n--> 277                 return fn(*args, **kwargs)\n        args = (<zmq.sugar.socket.Socket object>, 5)\n        kwargs = {}\n    278             finally:\n    279                 _state.contexts = current_state\n    280         null_wrapper._wrapped = True\n    281         return null_wrapper\n\n...........................................................................\n/Users/Valcer/anaconda/lib/python3.6/site-packages/zmq/eventloop/zmqstream.py in _handle_events(self=<zmq.eventloop.zmqstream.ZMQStream object>, fd=<zmq.sugar.socket.Socket object>, events=5)\n    435             # dispatch events:\n    436             if events & IOLoop.ERROR:\n    437                 gen_log.error(\"got POLLERR event on ZMQStream, which doesn't make sense\")\n    438                 return\n    439             if events & IOLoop.READ:\n--> 440                 self._handle_recv()\n        self._handle_recv = <bound method ZMQStream._handle_recv of <zmq.eventloop.zmqstream.ZMQStream object>>\n    441                 if not self.socket:\n    442                     return\n    443             if events & IOLoop.WRITE:\n    444                 self._handle_send()\n\n...........................................................................\n/Users/Valcer/anaconda/lib/python3.6/site-packages/zmq/eventloop/zmqstream.py in _handle_recv(self=<zmq.eventloop.zmqstream.ZMQStream object>)\n    467                 gen_log.error(\"RECV Error: %s\"%zmq.strerror(e.errno))\n    468         else:\n    469             if self._recv_callback:\n    470                 callback = self._recv_callback\n    471                 # self._recv_callback = None\n--> 472                 self._run_callback(callback, msg)\n        self._run_callback = <bound method ZMQStream._run_callback of <zmq.eventloop.zmqstream.ZMQStream object>>\n        callback = <function wrap.<locals>.null_wrapper>\n        msg = [<zmq.sugar.frame.Frame object>, <zmq.sugar.frame.Frame object>, <zmq.sugar.frame.Frame object>, <zmq.sugar.frame.Frame object>, <zmq.sugar.frame.Frame object>, <zmq.sugar.frame.Frame object>, <zmq.sugar.frame.Frame object>]\n    473                 \n    474         # self.update_state()\n    475         \n    476 \n\n...........................................................................\n/Users/Valcer/anaconda/lib/python3.6/site-packages/zmq/eventloop/zmqstream.py in _run_callback(self=<zmq.eventloop.zmqstream.ZMQStream object>, callback=<function wrap.<locals>.null_wrapper>, *args=([<zmq.sugar.frame.Frame object>, <zmq.sugar.frame.Frame object>, <zmq.sugar.frame.Frame object>, <zmq.sugar.frame.Frame object>, <zmq.sugar.frame.Frame object>, <zmq.sugar.frame.Frame object>, <zmq.sugar.frame.Frame object>],), **kwargs={})\n    409         close our socket.\"\"\"\n    410         try:\n    411             # Use a NullContext to ensure that all StackContexts are run\n    412             # inside our blanket exception handler rather than outside.\n    413             with stack_context.NullContext():\n--> 414                 callback(*args, **kwargs)\n        callback = <function wrap.<locals>.null_wrapper>\n        args = ([<zmq.sugar.frame.Frame object>, <zmq.sugar.frame.Frame object>, <zmq.sugar.frame.Frame object>, <zmq.sugar.frame.Frame object>, <zmq.sugar.frame.Frame object>, <zmq.sugar.frame.Frame object>, <zmq.sugar.frame.Frame object>],)\n        kwargs = {}\n    415         except:\n    416             gen_log.error(\"Uncaught exception, closing connection.\",\n    417                           exc_info=True)\n    418             # Close the socket on an uncaught exception from a user callback\n\n...........................................................................\n/Users/Valcer/anaconda/lib/python3.6/site-packages/tornado/stack_context.py in null_wrapper(*args=([<zmq.sugar.frame.Frame object>, <zmq.sugar.frame.Frame object>, <zmq.sugar.frame.Frame object>, <zmq.sugar.frame.Frame object>, <zmq.sugar.frame.Frame object>, <zmq.sugar.frame.Frame object>, <zmq.sugar.frame.Frame object>],), **kwargs={})\n    272         # Fast path when there are no active contexts.\n    273         def null_wrapper(*args, **kwargs):\n    274             try:\n    275                 current_state = _state.contexts\n    276                 _state.contexts = cap_contexts[0]\n--> 277                 return fn(*args, **kwargs)\n        args = ([<zmq.sugar.frame.Frame object>, <zmq.sugar.frame.Frame object>, <zmq.sugar.frame.Frame object>, <zmq.sugar.frame.Frame object>, <zmq.sugar.frame.Frame object>, <zmq.sugar.frame.Frame object>, <zmq.sugar.frame.Frame object>],)\n        kwargs = {}\n    278             finally:\n    279                 _state.contexts = current_state\n    280         null_wrapper._wrapped = True\n    281         return null_wrapper\n\n...........................................................................\n/Users/Valcer/anaconda/lib/python3.6/site-packages/ipykernel/kernelbase.py in dispatcher(msg=[<zmq.sugar.frame.Frame object>, <zmq.sugar.frame.Frame object>, <zmq.sugar.frame.Frame object>, <zmq.sugar.frame.Frame object>, <zmq.sugar.frame.Frame object>, <zmq.sugar.frame.Frame object>, <zmq.sugar.frame.Frame object>])\n    278         if self.control_stream:\n    279             self.control_stream.on_recv(self.dispatch_control, copy=False)\n    280 \n    281         def make_dispatcher(stream):\n    282             def dispatcher(msg):\n--> 283                 return self.dispatch_shell(stream, msg)\n        msg = [<zmq.sugar.frame.Frame object>, <zmq.sugar.frame.Frame object>, <zmq.sugar.frame.Frame object>, <zmq.sugar.frame.Frame object>, <zmq.sugar.frame.Frame object>, <zmq.sugar.frame.Frame object>, <zmq.sugar.frame.Frame object>]\n    284             return dispatcher\n    285 \n    286         for s in self.shell_streams:\n    287             s.on_recv(make_dispatcher(s), copy=False)\n\n...........................................................................\n/Users/Valcer/anaconda/lib/python3.6/site-packages/ipykernel/kernelbase.py in dispatch_shell(self=<ipykernel.ipkernel.IPythonKernel object>, stream=<zmq.eventloop.zmqstream.ZMQStream object>, msg={'buffers': [], 'content': {'allow_stdin': True, 'code': '# fit on all testing data\\ny = np.reshape(y, newshape=-1)\\ngrid_result = clf_rf.fit(X, y)', 'silent': False, 'stop_on_error': True, 'store_history': True, 'user_expressions': {}}, 'header': {'date': datetime.datetime(2017, 12, 14, 20, 11, 33, 360211, tzinfo=datetime.timezone.utc), 'msg_id': '560D30DD82A94AE38DDFA54591300242', 'msg_type': 'execute_request', 'session': 'D659EEF921B844AE8B9083C3EF4478AC', 'username': 'username', 'version': '5.0'}, 'metadata': {}, 'msg_id': '560D30DD82A94AE38DDFA54591300242', 'msg_type': 'execute_request', 'parent_header': {}})\n    230             self.log.warn(\"Unknown message type: %r\", msg_type)\n    231         else:\n    232             self.log.debug(\"%s: %s\", msg_type, msg)\n    233             self.pre_handler_hook()\n    234             try:\n--> 235                 handler(stream, idents, msg)\n        handler = <bound method Kernel.execute_request of <ipykernel.ipkernel.IPythonKernel object>>\n        stream = <zmq.eventloop.zmqstream.ZMQStream object>\n        idents = [b'D659EEF921B844AE8B9083C3EF4478AC']\n        msg = {'buffers': [], 'content': {'allow_stdin': True, 'code': '# fit on all testing data\\ny = np.reshape(y, newshape=-1)\\ngrid_result = clf_rf.fit(X, y)', 'silent': False, 'stop_on_error': True, 'store_history': True, 'user_expressions': {}}, 'header': {'date': datetime.datetime(2017, 12, 14, 20, 11, 33, 360211, tzinfo=datetime.timezone.utc), 'msg_id': '560D30DD82A94AE38DDFA54591300242', 'msg_type': 'execute_request', 'session': 'D659EEF921B844AE8B9083C3EF4478AC', 'username': 'username', 'version': '5.0'}, 'metadata': {}, 'msg_id': '560D30DD82A94AE38DDFA54591300242', 'msg_type': 'execute_request', 'parent_header': {}}\n    236             except Exception:\n    237                 self.log.error(\"Exception in message handler:\", exc_info=True)\n    238             finally:\n    239                 self.post_handler_hook()\n\n...........................................................................\n/Users/Valcer/anaconda/lib/python3.6/site-packages/ipykernel/kernelbase.py in execute_request(self=<ipykernel.ipkernel.IPythonKernel object>, stream=<zmq.eventloop.zmqstream.ZMQStream object>, ident=[b'D659EEF921B844AE8B9083C3EF4478AC'], parent={'buffers': [], 'content': {'allow_stdin': True, 'code': '# fit on all testing data\\ny = np.reshape(y, newshape=-1)\\ngrid_result = clf_rf.fit(X, y)', 'silent': False, 'stop_on_error': True, 'store_history': True, 'user_expressions': {}}, 'header': {'date': datetime.datetime(2017, 12, 14, 20, 11, 33, 360211, tzinfo=datetime.timezone.utc), 'msg_id': '560D30DD82A94AE38DDFA54591300242', 'msg_type': 'execute_request', 'session': 'D659EEF921B844AE8B9083C3EF4478AC', 'username': 'username', 'version': '5.0'}, 'metadata': {}, 'msg_id': '560D30DD82A94AE38DDFA54591300242', 'msg_type': 'execute_request', 'parent_header': {}})\n    394         if not silent:\n    395             self.execution_count += 1\n    396             self._publish_execute_input(code, parent, self.execution_count)\n    397 \n    398         reply_content = self.do_execute(code, silent, store_history,\n--> 399                                         user_expressions, allow_stdin)\n        user_expressions = {}\n        allow_stdin = True\n    400 \n    401         # Flush output before sending the reply.\n    402         sys.stdout.flush()\n    403         sys.stderr.flush()\n\n...........................................................................\n/Users/Valcer/anaconda/lib/python3.6/site-packages/ipykernel/ipkernel.py in do_execute(self=<ipykernel.ipkernel.IPythonKernel object>, code='# fit on all testing data\\ny = np.reshape(y, newshape=-1)\\ngrid_result = clf_rf.fit(X, y)', silent=False, store_history=True, user_expressions={}, allow_stdin=True)\n    191 \n    192         self._forward_input(allow_stdin)\n    193 \n    194         reply_content = {}\n    195         try:\n--> 196             res = shell.run_cell(code, store_history=store_history, silent=silent)\n        res = undefined\n        shell.run_cell = <bound method ZMQInteractiveShell.run_cell of <ipykernel.zmqshell.ZMQInteractiveShell object>>\n        code = '# fit on all testing data\\ny = np.reshape(y, newshape=-1)\\ngrid_result = clf_rf.fit(X, y)'\n        store_history = True\n        silent = False\n    197         finally:\n    198             self._restore_input()\n    199 \n    200         if res.error_before_exec is not None:\n\n...........................................................................\n/Users/Valcer/anaconda/lib/python3.6/site-packages/ipykernel/zmqshell.py in run_cell(self=<ipykernel.zmqshell.ZMQInteractiveShell object>, *args=('# fit on all testing data\\ny = np.reshape(y, newshape=-1)\\ngrid_result = clf_rf.fit(X, y)',), **kwargs={'silent': False, 'store_history': True})\n    528             )\n    529         self.payload_manager.write_payload(payload)\n    530 \n    531     def run_cell(self, *args, **kwargs):\n    532         self._last_traceback = None\n--> 533         return super(ZMQInteractiveShell, self).run_cell(*args, **kwargs)\n        self.run_cell = <bound method ZMQInteractiveShell.run_cell of <ipykernel.zmqshell.ZMQInteractiveShell object>>\n        args = ('# fit on all testing data\\ny = np.reshape(y, newshape=-1)\\ngrid_result = clf_rf.fit(X, y)',)\n        kwargs = {'silent': False, 'store_history': True}\n    534 \n    535     def _showtraceback(self, etype, evalue, stb):\n    536         # try to preserve ordering of tracebacks and print statements\n    537         sys.stdout.flush()\n\n...........................................................................\n/Users/Valcer/anaconda/lib/python3.6/site-packages/IPython/core/interactiveshell.py in run_cell(self=<ipykernel.zmqshell.ZMQInteractiveShell object>, raw_cell='# fit on all testing data\\ny = np.reshape(y, newshape=-1)\\ngrid_result = clf_rf.fit(X, y)', store_history=True, silent=False, shell_futures=True)\n   2712                 self.displayhook.exec_result = result\n   2713 \n   2714                 # Execute the user code\n   2715                 interactivity = \"none\" if silent else self.ast_node_interactivity\n   2716                 has_raised = self.run_ast_nodes(code_ast.body, cell_name,\n-> 2717                    interactivity=interactivity, compiler=compiler, result=result)\n        interactivity = 'last_expr'\n        compiler = <IPython.core.compilerop.CachingCompiler object>\n   2718                 \n   2719                 self.last_execution_succeeded = not has_raised\n   2720 \n   2721                 # Reset this so later displayed values do not modify the\n\n...........................................................................\n/Users/Valcer/anaconda/lib/python3.6/site-packages/IPython/core/interactiveshell.py in run_ast_nodes(self=<ipykernel.zmqshell.ZMQInteractiveShell object>, nodelist=[<_ast.Assign object>, <_ast.Assign object>], cell_name='<ipython-input-46-f05dbeaed07d>', interactivity='none', compiler=<IPython.core.compilerop.CachingCompiler object>, result=<ExecutionResult object at 1147970b8, execution_..._before_exec=None error_in_exec=None result=None>)\n   2816 \n   2817         try:\n   2818             for i, node in enumerate(to_run_exec):\n   2819                 mod = ast.Module([node])\n   2820                 code = compiler(mod, cell_name, \"exec\")\n-> 2821                 if self.run_code(code, result):\n        self.run_code = <bound method InteractiveShell.run_code of <ipykernel.zmqshell.ZMQInteractiveShell object>>\n        code = <code object <module> at 0x114161270, file \"<ipython-input-46-f05dbeaed07d>\", line 3>\n        result = <ExecutionResult object at 1147970b8, execution_..._before_exec=None error_in_exec=None result=None>\n   2822                     return True\n   2823 \n   2824             for i, node in enumerate(to_run_interactive):\n   2825                 mod = ast.Interactive([node])\n\n...........................................................................\n/Users/Valcer/anaconda/lib/python3.6/site-packages/IPython/core/interactiveshell.py in run_code(self=<ipykernel.zmqshell.ZMQInteractiveShell object>, code_obj=<code object <module> at 0x114161270, file \"<ipython-input-46-f05dbeaed07d>\", line 3>, result=<ExecutionResult object at 1147970b8, execution_..._before_exec=None error_in_exec=None result=None>)\n   2876         outflag = 1  # happens in more places, so it's easier as default\n   2877         try:\n   2878             try:\n   2879                 self.hooks.pre_run_code_hook()\n   2880                 #rprint('Running code', repr(code_obj)) # dbg\n-> 2881                 exec(code_obj, self.user_global_ns, self.user_ns)\n        code_obj = <code object <module> at 0x114161270, file \"<ipython-input-46-f05dbeaed07d>\", line 3>\n        self.user_global_ns = {'GridSearchCV': <class 'sklearn.model_selection._search.GridSearchCV'>, 'In': ['', \"# imports\\nimport os\\nimport pandas as pd\\nimport n...atetime\\n\\nget_ipython().magic('matplotlib inline')\", \"# load data\\ndata = pd.read_csv('VIX-Data-with-sentiment.csv')\", 'data.head()', \"# split data into X\\nX = data[['XIV','SPX','10-Da...       'Futures-Percent','compound','neg','pos']]\", 'X.head()', \"# split data into y\\ny = data[['VIX-Spike']]\", 'y.head()', '# split into train and test\\nX_train_split = X[:1...\\ny_train_split = y[:1368]\\ny_test_split = y[1368:]', 'X_train_split.head()', 'y_test_split.head()', '# clean up selections\\ny = np.array(y)\\ny = y.resh... = y_test_split.reshape(y_test_split.shape[0],-1)', \"# # VIX-Open vs VIX-Close\\n# X_blue = data[['Vix-Open','Vix-Close']]\\n# sns.pairplot(X_blue)\", '# VIX-Open vs VIX-Close -- color coded', \"# grid search -- use educated guesses for parame...   'reg_alpha':[0.01]\\n            }\\n            ]\", \"xgb_model = XGBClassifier(objective='binary:logi...edKFold(n_splits=5, shuffle=True, random_state=7)\", \"# run grid search\\nclf = GridSearchCV(estimator=x...coring='recall', n_jobs=4, cv=None, verbose=True)\", '# fit on all testing data\\ny = np.reshape(y, newshape=-1)\\ngrid_result = clf.fit(X, y)', '# best params\\nclf.best_params_', '# best params\\ngrid_result.best_params_', ...], 'Out': {3:      Date     XIV      SPX  10-Day-Rank  50-Day-... \n4  0.175889          0  \n\n[5 rows x 25 columns], 5:       XIV      SPX  10-Day-Rank  50-Day-Rank  10...  \n4  0.075556  0.175889  \n\n[5 rows x 22 columns], 7:    VIX-Spike\n0          0\n1          0\n2          1\n3          1\n4          0, 9:       XIV      SPX  10-Day-Rank  50-Day-Rank  10...  \n4  0.075556  0.175889  \n\n[5 rows x 22 columns], 10:       VIX-Spike\n1368          0\n1369          0\n1370          0\n1371          0\n1372          0, 18: {'colsample_bytree': 0.8, 'gamma': 0, 'learning_rate': 0.1, 'max_depth': 20, 'min_child_weight': 3, 'n_estimators': 200, 'reg_alpha': 0.01, 'subsample': 1}, 19: {'colsample_bytree': 0.8, 'gamma': 0, 'learning_rate': 0.1, 'max_depth': 20, 'min_child_weight': 3, 'n_estimators': 200, 'reg_alpha': 0.01, 'subsample': 1}, 22: 1762, 24: (1762,), 27: (1261,), ...}, 'RandomForestClassifier': <class 'sklearn.ensemble.forest.RandomForestClassifier'>, 'SVC': <class 'sklearn.svm.classes.SVC'>, 'StratifiedKFold': <class 'sklearn.model_selection._split.StratifiedKFold'>, 'X':            XIV      SPX  10-Day-Rank  50-Day-Ran...N       NaN       NaN  \n\n[1762 rows x 22 columns], 'XGBClassifier': <class 'xgboost.sklearn.XGBClassifier'>, 'X_test':       XIV  SPX  10-Day-Rank  50-Day-Rank  10-Day... NaN       NaN  NaN  NaN  \n\n[1 rows x 22 columns], 'X_test_split':          XIV      SPX  10-Day-Rank  50-Day-Rank ...aN       NaN       NaN  \n\n[394 rows x 22 columns], ...}\n        self.user_ns = {'GridSearchCV': <class 'sklearn.model_selection._search.GridSearchCV'>, 'In': ['', \"# imports\\nimport os\\nimport pandas as pd\\nimport n...atetime\\n\\nget_ipython().magic('matplotlib inline')\", \"# load data\\ndata = pd.read_csv('VIX-Data-with-sentiment.csv')\", 'data.head()', \"# split data into X\\nX = data[['XIV','SPX','10-Da...       'Futures-Percent','compound','neg','pos']]\", 'X.head()', \"# split data into y\\ny = data[['VIX-Spike']]\", 'y.head()', '# split into train and test\\nX_train_split = X[:1...\\ny_train_split = y[:1368]\\ny_test_split = y[1368:]', 'X_train_split.head()', 'y_test_split.head()', '# clean up selections\\ny = np.array(y)\\ny = y.resh... = y_test_split.reshape(y_test_split.shape[0],-1)', \"# # VIX-Open vs VIX-Close\\n# X_blue = data[['Vix-Open','Vix-Close']]\\n# sns.pairplot(X_blue)\", '# VIX-Open vs VIX-Close -- color coded', \"# grid search -- use educated guesses for parame...   'reg_alpha':[0.01]\\n            }\\n            ]\", \"xgb_model = XGBClassifier(objective='binary:logi...edKFold(n_splits=5, shuffle=True, random_state=7)\", \"# run grid search\\nclf = GridSearchCV(estimator=x...coring='recall', n_jobs=4, cv=None, verbose=True)\", '# fit on all testing data\\ny = np.reshape(y, newshape=-1)\\ngrid_result = clf.fit(X, y)', '# best params\\nclf.best_params_', '# best params\\ngrid_result.best_params_', ...], 'Out': {3:      Date     XIV      SPX  10-Day-Rank  50-Day-... \n4  0.175889          0  \n\n[5 rows x 25 columns], 5:       XIV      SPX  10-Day-Rank  50-Day-Rank  10...  \n4  0.075556  0.175889  \n\n[5 rows x 22 columns], 7:    VIX-Spike\n0          0\n1          0\n2          1\n3          1\n4          0, 9:       XIV      SPX  10-Day-Rank  50-Day-Rank  10...  \n4  0.075556  0.175889  \n\n[5 rows x 22 columns], 10:       VIX-Spike\n1368          0\n1369          0\n1370          0\n1371          0\n1372          0, 18: {'colsample_bytree': 0.8, 'gamma': 0, 'learning_rate': 0.1, 'max_depth': 20, 'min_child_weight': 3, 'n_estimators': 200, 'reg_alpha': 0.01, 'subsample': 1}, 19: {'colsample_bytree': 0.8, 'gamma': 0, 'learning_rate': 0.1, 'max_depth': 20, 'min_child_weight': 3, 'n_estimators': 200, 'reg_alpha': 0.01, 'subsample': 1}, 22: 1762, 24: (1762,), 27: (1261,), ...}, 'RandomForestClassifier': <class 'sklearn.ensemble.forest.RandomForestClassifier'>, 'SVC': <class 'sklearn.svm.classes.SVC'>, 'StratifiedKFold': <class 'sklearn.model_selection._split.StratifiedKFold'>, 'X':            XIV      SPX  10-Day-Rank  50-Day-Ran...N       NaN       NaN  \n\n[1762 rows x 22 columns], 'XGBClassifier': <class 'xgboost.sklearn.XGBClassifier'>, 'X_test':       XIV  SPX  10-Day-Rank  50-Day-Rank  10-Day... NaN       NaN  NaN  NaN  \n\n[1 rows x 22 columns], 'X_test_split':          XIV      SPX  10-Day-Rank  50-Day-Rank ...aN       NaN       NaN  \n\n[394 rows x 22 columns], ...}\n   2882             finally:\n   2883                 # Reset our crash handler in place\n   2884                 sys.excepthook = old_excepthook\n   2885         except SystemExit as e:\n\n...........................................................................\n/Users/Valcer/Desktop/EE 461P/Project/<ipython-input-46-f05dbeaed07d> in <module>()\n      1 \n      2 \n----> 3 \n      4 # fit on all testing data\n      5 y = np.reshape(y, newshape=-1)\n      6 grid_result = clf_rf.fit(X, y)\n      7 \n      8 \n      9 \n     10 \n\n...........................................................................\n/Users/Valcer/anaconda/lib/python3.6/site-packages/sklearn/model_selection/_search.py in fit(self=GridSearchCV(cv=StratifiedKFold(n_splits=5, rand...core=True,\n       scoring='recall', verbose=True), X=           XIV      SPX  10-Day-Rank  50-Day-Ran...N       NaN       NaN  \n\n[1762 rows x 22 columns], y=array([0, 0, 1, ..., 0, 0, 0]), groups=None)\n    940 \n    941         groups : array-like, with shape (n_samples,), optional\n    942             Group labels for the samples used while splitting the dataset into\n    943             train/test set.\n    944         \"\"\"\n--> 945         return self._fit(X, y, groups, ParameterGrid(self.param_grid))\n        self._fit = <bound method BaseSearchCV._fit of GridSearchCV(...ore=True,\n       scoring='recall', verbose=True)>\n        X =            XIV      SPX  10-Day-Rank  50-Day-Ran...N       NaN       NaN  \n\n[1762 rows x 22 columns]\n        y = array([0, 0, 1, ..., 0, 0, 0])\n        groups = None\n        self.param_grid = [{'max_depth': [15], 'max_features': [16], 'n_estimators': [250]}]\n    946 \n    947 \n    948 class RandomizedSearchCV(BaseSearchCV):\n    949     \"\"\"Randomized search on hyper parameters.\n\n...........................................................................\n/Users/Valcer/anaconda/lib/python3.6/site-packages/sklearn/model_selection/_search.py in _fit(self=GridSearchCV(cv=StratifiedKFold(n_splits=5, rand...core=True,\n       scoring='recall', verbose=True), X=           XIV      SPX  10-Day-Rank  50-Day-Ran...N       NaN       NaN  \n\n[1762 rows x 22 columns], y=array([0, 0, 1, ..., 0, 0, 0]), groups=None, parameter_iterable=<sklearn.model_selection._search.ParameterGrid object>)\n    559                                   fit_params=self.fit_params,\n    560                                   return_train_score=self.return_train_score,\n    561                                   return_n_test_samples=True,\n    562                                   return_times=True, return_parameters=True,\n    563                                   error_score=self.error_score)\n--> 564           for parameters in parameter_iterable\n        parameters = undefined\n        parameter_iterable = <sklearn.model_selection._search.ParameterGrid object>\n    565           for train, test in cv_iter)\n    566 \n    567         # if one choose to see train score, \"out\" will contain train score info\n    568         if self.return_train_score:\n\n...........................................................................\n/Users/Valcer/anaconda/lib/python3.6/site-packages/sklearn/externals/joblib/parallel.py in __call__(self=Parallel(n_jobs=4), iterable=<generator object BaseSearchCV._fit.<locals>.<genexpr>>)\n    763             if pre_dispatch == \"all\" or n_jobs == 1:\n    764                 # The iterable was consumed all at once by the above for loop.\n    765                 # No need to wait for async callbacks to trigger to\n    766                 # consumption.\n    767                 self._iterating = False\n--> 768             self.retrieve()\n        self.retrieve = <bound method Parallel.retrieve of Parallel(n_jobs=4)>\n    769             # Make sure that we get a last message telling us we are done\n    770             elapsed_time = time.time() - self._start_time\n    771             self._print('Done %3i out of %3i | elapsed: %s finished',\n    772                         (len(self._output), len(self._output),\n\n---------------------------------------------------------------------------\nSub-process traceback:\n---------------------------------------------------------------------------\nValueError                                         Thu Dec 14 14:11:33 2017\nPID: 11822                  Python 3.6.1: /Users/Valcer/anaconda/bin/python\n...........................................................................\n/Users/Valcer/anaconda/lib/python3.6/site-packages/sklearn/externals/joblib/parallel.py in __call__(self=<sklearn.externals.joblib.parallel.BatchedCalls object>)\n    126     def __init__(self, iterator_slice):\n    127         self.items = list(iterator_slice)\n    128         self._size = len(self.items)\n    129 \n    130     def __call__(self):\n--> 131         return [func(*args, **kwargs) for func, args, kwargs in self.items]\n        self.items = [(<function _fit_and_score>, (RandomForestClassifier(bootstrap=True, class_wei...te=None,\n            verbose=1, warm_start=False),            XIV      SPX  10-Day-Rank  50-Day-Ran...N       NaN       NaN  \n\n[1762 rows x 22 columns], array([0, 0, 1, ..., 0, 0, 0]), make_scorer(recall_score), array([   0,    1,    2, ..., 1757, 1758, 1760]), array([   6,   11,   17,   19,   21,   24,   28,...1709, 1715, 1724, 1751, 1754,\n       1759, 1761]), True, {'max_depth': 15, 'max_features': 16, 'n_estimators': 250}), {'error_score': 'raise', 'fit_params': {}, 'return_n_test_samples': True, 'return_parameters': True, 'return_times': True, 'return_train_score': True})]\n    132 \n    133     def __len__(self):\n    134         return self._size\n    135 \n\n...........................................................................\n/Users/Valcer/anaconda/lib/python3.6/site-packages/sklearn/externals/joblib/parallel.py in <listcomp>(.0=<list_iterator object>)\n    126     def __init__(self, iterator_slice):\n    127         self.items = list(iterator_slice)\n    128         self._size = len(self.items)\n    129 \n    130     def __call__(self):\n--> 131         return [func(*args, **kwargs) for func, args, kwargs in self.items]\n        func = <function _fit_and_score>\n        args = (RandomForestClassifier(bootstrap=True, class_wei...te=None,\n            verbose=1, warm_start=False),            XIV      SPX  10-Day-Rank  50-Day-Ran...N       NaN       NaN  \n\n[1762 rows x 22 columns], array([0, 0, 1, ..., 0, 0, 0]), make_scorer(recall_score), array([   0,    1,    2, ..., 1757, 1758, 1760]), array([   6,   11,   17,   19,   21,   24,   28,...1709, 1715, 1724, 1751, 1754,\n       1759, 1761]), True, {'max_depth': 15, 'max_features': 16, 'n_estimators': 250})\n        kwargs = {'error_score': 'raise', 'fit_params': {}, 'return_n_test_samples': True, 'return_parameters': True, 'return_times': True, 'return_train_score': True}\n    132 \n    133     def __len__(self):\n    134         return self._size\n    135 \n\n...........................................................................\n/Users/Valcer/anaconda/lib/python3.6/site-packages/sklearn/model_selection/_validation.py in _fit_and_score(estimator=RandomForestClassifier(bootstrap=True, class_wei...te=None,\n            verbose=1, warm_start=False), X=           XIV      SPX  10-Day-Rank  50-Day-Ran...N       NaN       NaN  \n\n[1762 rows x 22 columns], y=array([0, 0, 1, ..., 0, 0, 0]), scorer=make_scorer(recall_score), train=array([   0,    1,    2, ..., 1757, 1758, 1760]), test=array([   6,   11,   17,   19,   21,   24,   28,...1709, 1715, 1724, 1751, 1754,\n       1759, 1761]), verbose=True, parameters={'max_depth': 15, 'max_features': 16, 'n_estimators': 250}, fit_params={}, return_train_score=True, return_parameters=True, return_n_test_samples=True, return_times=True, error_score='raise')\n    233 \n    234     try:\n    235         if y_train is None:\n    236             estimator.fit(X_train, **fit_params)\n    237         else:\n--> 238             estimator.fit(X_train, y_train, **fit_params)\n        estimator.fit = <bound method BaseForest.fit of RandomForestClas...e=None,\n            verbose=1, warm_start=False)>\n        X_train =            XIV      SPX  10-Day-Rank  50-Day-Ran...N       NaN       NaN  \n\n[1408 rows x 22 columns]\n        y_train = array([0, 0, 1, ..., 1, 0, 0])\n        fit_params = {}\n    239 \n    240     except Exception as e:\n    241         # Note fit time as time until error\n    242         fit_time = time.time() - start_time\n\n...........................................................................\n/Users/Valcer/anaconda/lib/python3.6/site-packages/sklearn/ensemble/forest.py in fit(self=RandomForestClassifier(bootstrap=True, class_wei...te=None,\n            verbose=1, warm_start=False), X=           XIV      SPX  10-Day-Rank  50-Day-Ran...N       NaN       NaN  \n\n[1408 rows x 22 columns], y=array([0, 0, 1, ..., 1, 0, 0]), sample_weight=None)\n    242         -------\n    243         self : object\n    244             Returns self.\n    245         \"\"\"\n    246         # Validate or convert input data\n--> 247         X = check_array(X, accept_sparse=\"csc\", dtype=DTYPE)\n        X =            XIV      SPX  10-Day-Rank  50-Day-Ran...N       NaN       NaN  \n\n[1408 rows x 22 columns]\n    248         y = check_array(y, accept_sparse='csc', ensure_2d=False, dtype=None)\n    249         if issparse(X):\n    250             # Pre-sort indices to avoid that each individual tree of the\n    251             # ensemble sorts the indices.\n\n...........................................................................\n/Users/Valcer/anaconda/lib/python3.6/site-packages/sklearn/utils/validation.py in check_array(array=array([[  1.23800001e+01,   1.25762000e+03,   4....          nan,              nan]], dtype=float32), accept_sparse=['csc'], dtype=<class 'numpy.float32'>, order=None, copy=False, force_all_finite=True, ensure_2d=True, allow_nd=False, ensure_min_samples=1, ensure_min_features=1, warn_on_dtype=False, estimator=None)\n    402             array = array.astype(np.float64)\n    403         if not allow_nd and array.ndim >= 3:\n    404             raise ValueError(\"Found array with dim %d. %s expected <= 2.\"\n    405                              % (array.ndim, estimator_name))\n    406         if force_all_finite:\n--> 407             _assert_all_finite(array)\n        array = array([[  1.23800001e+01,   1.25762000e+03,   4....          nan,              nan]], dtype=float32)\n    408 \n    409     shape_repr = _shape_repr(array.shape)\n    410     if ensure_min_samples > 0:\n    411         n_samples = _num_samples(array)\n\n...........................................................................\n/Users/Valcer/anaconda/lib/python3.6/site-packages/sklearn/utils/validation.py in _assert_all_finite(X=array([[  1.23800001e+01,   1.25762000e+03,   4....          nan,              nan]], dtype=float32))\n     53     # everything is finite; fall back to O(n) space np.isfinite to prevent\n     54     # false positives from overflow in sum method.\n     55     if (X.dtype.char in np.typecodes['AllFloat'] and not np.isfinite(X.sum())\n     56             and not np.isfinite(X).all()):\n     57         raise ValueError(\"Input contains NaN, infinity\"\n---> 58                          \" or a value too large for %r.\" % X.dtype)\n        X.dtype = dtype('float32')\n     59 \n     60 \n     61 def assert_all_finite(X):\n     62     \"\"\"Throw a ValueError if X contains NaN or infinity.\n\nValueError: Input contains NaN, infinity or a value too large for dtype('float32').\n___________________________________________________________________________"
     ]
    }
   ],
   "source": [
    "# fit on all testing data\n",
    "y = np.reshape(y, newshape=-1)\n",
    "grid_result = clf_rf.fit(X, y)"
   ]
  },
  {
   "cell_type": "markdown",
   "metadata": {},
   "source": [
    "### Cross Validation Results"
   ]
  },
  {
   "cell_type": "code",
   "execution_count": null,
   "metadata": {
    "collapsed": true
   },
   "outputs": [],
   "source": [
    "# best params\n",
    "clf_rf.best_params_"
   ]
  },
  {
   "cell_type": "code",
   "execution_count": null,
   "metadata": {
    "collapsed": true
   },
   "outputs": [],
   "source": [
    "# best params\n",
    "grid_result.best_params_"
   ]
  },
  {
   "cell_type": "code",
   "execution_count": null,
   "metadata": {
    "collapsed": true
   },
   "outputs": [],
   "source": [
    "# summarize results\n",
    "print ('CV results: ', grid_result.cv_results_)\n",
    "print ('at index ', grid_result.best_index_)\n",
    "print ('Best: %f using %s' % (grid_result.best_score_, grid_result.best_params_))"
   ]
  },
  {
   "cell_type": "markdown",
   "metadata": {},
   "source": [
    "### Random Forest - Fit Model on Best Params"
   ]
  },
  {
   "cell_type": "code",
   "execution_count": null,
   "metadata": {
    "collapsed": true
   },
   "outputs": [],
   "source": [
    "# fit model on auc predictions on entire training dataset\n",
    "rf_online = RandomForestClassifier(\n",
    "                                n_estimators=grid_result.best_params_['n_estimators'],\n",
    "                                max_depth=grid_result.best_params_['max_depth'], \n",
    "                                max_features=grid_result.best_params_['max_features']\n",
    "                                )"
   ]
  },
  {
   "cell_type": "markdown",
   "metadata": {},
   "source": [
    "### Online Updates"
   ]
  },
  {
   "cell_type": "code",
   "execution_count": null,
   "metadata": {
    "collapsed": true
   },
   "outputs": [],
   "source": [
    "X.shape[0]"
   ]
  },
  {
   "cell_type": "code",
   "execution_count": null,
   "metadata": {
    "collapsed": true
   },
   "outputs": [],
   "source": [
    "y_pred = []"
   ]
  },
  {
   "cell_type": "code",
   "execution_count": null,
   "metadata": {
    "collapsed": true
   },
   "outputs": [],
   "source": [
    "startIdx = 500\n",
    "windowSize = 500\n",
    "for rowIdx in range(startIdx, X.shape[0]-1):\n",
    "#     define train and test set\n",
    "    X_train = X.loc[rowIdx-windowSize:rowIdx-1,:]\n",
    "    y_train = y[rowIdx-windowSize:rowIdx]\n",
    "    X_test = X.loc[[rowIdx]]\n",
    "    y_test = y[rowIdx]\n",
    "#     print(len(y_train))\n",
    "#     print(X_train.shape)\n",
    "#     print(X_train)\n",
    "#     fit xgb model on training data\n",
    "    rf_online.fit(X_train, y_train)\n",
    "#     make predictions\n",
    "    y_pred.append(rf_online.predict(X_test))\n",
    "#     display progress\n",
    "    if (rowIdx%10==0):\n",
    "        print (rowIdx)"
   ]
  },
  {
   "cell_type": "code",
   "execution_count": null,
   "metadata": {
    "collapsed": true
   },
   "outputs": [],
   "source": [
    "# reshapes\n",
    "y_pred = np.array(y_pred).flatten()\n",
    "y_test = y[501:]"
   ]
  },
  {
   "cell_type": "code",
   "execution_count": null,
   "metadata": {
    "collapsed": true
   },
   "outputs": [],
   "source": [
    "y_pred.shape"
   ]
  },
  {
   "cell_type": "code",
   "execution_count": null,
   "metadata": {
    "collapsed": true
   },
   "outputs": [],
   "source": [
    "y_test.shape"
   ]
  },
  {
   "cell_type": "markdown",
   "metadata": {},
   "source": [
    "#### Running Values"
   ]
  },
  {
   "cell_type": "code",
   "execution_count": null,
   "metadata": {
    "collapsed": true
   },
   "outputs": [],
   "source": [
    "recall_list = []\n",
    "precision_list = []\n",
    "non_error_list = []"
   ]
  },
  {
   "cell_type": "code",
   "execution_count": null,
   "metadata": {
    "collapsed": true
   },
   "outputs": [],
   "source": [
    "def findRates(y_test_cfm, y_pred_cfm):\n",
    "    cfm = confusion_matrix(y_test_cfm, y_pred_cfm)\n",
    "\n",
    "#     print (cfm)\n",
    "    \n",
    "    tp, fp, fn, tn = cfm.ravel()\n",
    "\n",
    "    recall_rate = tp / (tp + fn)\n",
    "    precision_rate = tp / (tp + fp)\n",
    "    error_rate = (fp + fn) / (tp + fp + fn + tn)\n",
    "    non_error_rate = 1 - error_rate\n",
    "    \n",
    "    return [recall_rate, precision_rate, non_error_rate]"
   ]
  },
  {
   "cell_type": "code",
   "execution_count": null,
   "metadata": {
    "collapsed": true
   },
   "outputs": [],
   "source": [
    "for idx in range(y_test.shape[0]-1):\n",
    "    \n",
    "#     print ('idx', idx)\n",
    "#     print ('y_test', str(y_test[:idx+2]))\n",
    "#     print ('y_pred', str(y_pred[:idx+2]))\n",
    "    \n",
    "    accuracy_list = findRates(y_test[:idx+2], y_pred[:idx+2])\n",
    "    \n",
    "    recall_list.append(accuracy_list[0])\n",
    "    precision_list.append(accuracy_list[1])\n",
    "    non_error_list.append(accuracy_list[2])"
   ]
  },
  {
   "cell_type": "code",
   "execution_count": null,
   "metadata": {
    "collapsed": true
   },
   "outputs": [],
   "source": [
    "recall_list = np.array(recall_list).flatten()\n",
    "recall_list.shape"
   ]
  },
  {
   "cell_type": "code",
   "execution_count": null,
   "metadata": {
    "collapsed": true
   },
   "outputs": [],
   "source": [
    "precision_list = np.array(precision_list).flatten()\n",
    "precision_list.shape"
   ]
  },
  {
   "cell_type": "code",
   "execution_count": null,
   "metadata": {
    "collapsed": true
   },
   "outputs": [],
   "source": [
    "non_error_list = np.array(non_error_list).flatten()\n",
    "non_error_list.shape"
   ]
  },
  {
   "cell_type": "markdown",
   "metadata": {},
   "source": [
    "#### Plot results"
   ]
  },
  {
   "cell_type": "code",
   "execution_count": null,
   "metadata": {
    "collapsed": true
   },
   "outputs": [],
   "source": [
    "x_axis = np.arange(1260)"
   ]
  },
  {
   "cell_type": "code",
   "execution_count": null,
   "metadata": {
    "collapsed": true
   },
   "outputs": [],
   "source": [
    "plt.gca().set_color_cycle(['red', 'green', 'blue', 'yellow'])\n",
    "\n",
    "plt.plot(x_axis, recall_list)\n",
    "plt.plot(x_axis, precision_list)\n",
    "plt.plot(x_axis, non_error_list)\n",
    "\n",
    "plt.legend(['recall', 'precision', 'accuracy'], loc='lower right')"
   ]
  },
  {
   "cell_type": "markdown",
   "metadata": {},
   "source": [
    "#### Final Values"
   ]
  },
  {
   "cell_type": "code",
   "execution_count": null,
   "metadata": {
    "collapsed": true
   },
   "outputs": [],
   "source": [
    "confusion_matrix(y_test, y_pred)"
   ]
  },
  {
   "cell_type": "code",
   "execution_count": null,
   "metadata": {
    "collapsed": true
   },
   "outputs": [],
   "source": [
    "accuracy_list = findRates(y_test, y_pred)\n",
    "\n",
    "recall_rate_final = accuracy_list[0]\n",
    "precision_rate_final = accuracy_list[1]\n",
    "error_rate_final = accuracy_list[2]"
   ]
  },
  {
   "cell_type": "code",
   "execution_count": null,
   "metadata": {
    "collapsed": true
   },
   "outputs": [],
   "source": [
    "recall_rate"
   ]
  },
  {
   "cell_type": "code",
   "execution_count": null,
   "metadata": {
    "collapsed": true
   },
   "outputs": [],
   "source": [
    "precision_rate"
   ]
  },
  {
   "cell_type": "code",
   "execution_count": null,
   "metadata": {
    "collapsed": true
   },
   "outputs": [],
   "source": [
    "1 - error_rate"
   ]
  },
  {
   "cell_type": "code",
   "execution_count": null,
   "metadata": {
    "collapsed": true
   },
   "outputs": [],
   "source": [
    "y_pred = y_pred.astype(int)\n",
    "np.savetxt('rf_preds.csv', y_pred, delimiter=',')"
   ]
  },
  {
   "cell_type": "markdown",
   "metadata": {},
   "source": [
    "## SVM"
   ]
  },
  {
   "cell_type": "markdown",
   "metadata": {},
   "source": [
    "### Grid Search"
   ]
  },
  {
   "cell_type": "code",
   "execution_count": null,
   "metadata": {
    "collapsed": true
   },
   "outputs": [],
   "source": [
    "# grid search -- use educated guesses for parameter values\n",
    "\n",
    "rand_grid = [\n",
    "            {\n",
    "                \n",
    "            }\n",
    "            ]"
   ]
  },
  {
   "cell_type": "code",
   "execution_count": null,
   "metadata": {
    "collapsed": true
   },
   "outputs": [],
   "source": [
    "svm_model = SVC()\n",
    "# xgb_model.set_params()\n",
    "kfold = StratifiedKFold(n_splits=5, shuffle=True, random_state=7)"
   ]
  },
  {
   "cell_type": "code",
   "execution_count": null,
   "metadata": {
    "collapsed": true
   },
   "outputs": [],
   "source": [
    "# run grid search\n",
    "clf_svm = GridSearchCV(estimator=svm_model, param_grid=rand_grid, \n",
    "                   scoring='recall', n_jobs=4, cv=kfold, verbose=True)"
   ]
  },
  {
   "cell_type": "code",
   "execution_count": null,
   "metadata": {
    "collapsed": true
   },
   "outputs": [],
   "source": [
    "# fit on all testing data\n",
    "y = np.reshape(y, newshape=-1)\n",
    "grid_result = clf_svm.fit(X, y)"
   ]
  },
  {
   "cell_type": "markdown",
   "metadata": {},
   "source": [
    "### Cross Validation Results"
   ]
  },
  {
   "cell_type": "code",
   "execution_count": null,
   "metadata": {
    "collapsed": true
   },
   "outputs": [],
   "source": [
    "# best params\n",
    "\n",
    "clf_svm.best_params_"
   ]
  },
  {
   "cell_type": "code",
   "execution_count": null,
   "metadata": {
    "collapsed": true
   },
   "outputs": [],
   "source": [
    "# best params\n",
    "grid_result.best_params_"
   ]
  },
  {
   "cell_type": "code",
   "execution_count": null,
   "metadata": {
    "collapsed": true
   },
   "outputs": [],
   "source": [
    "# summarize results\n",
    "print ('CV results: ', grid_result.cv_results_)\n",
    "print ('at index ', grid_result.best_index_)\n",
    "print ('Best: %f using %s' % (grid_result.best_score_, grid_result.best_params_))"
   ]
  },
  {
   "cell_type": "markdown",
   "metadata": {},
   "source": [
    "### Random Forest - Fit Model on Best Params"
   ]
  },
  {
   "cell_type": "code",
   "execution_count": null,
   "metadata": {
    "collapsed": true
   },
   "outputs": [],
   "source": [
    "# fit model on auc predictions on entire training dataset\n",
    "rf_online = RandomForestClassifier(\n",
    "                                n_estimators=grid_result.best_params_['n_estimators'],\n",
    "                                max_depth=grid_result.best_params_['max_depth'], \n",
    "                                max_features=grid_result.best_params_['max_features']\n",
    "                                )"
   ]
  },
  {
   "cell_type": "markdown",
   "metadata": {},
   "source": [
    "### Online Updates"
   ]
  },
  {
   "cell_type": "code",
   "execution_count": null,
   "metadata": {
    "collapsed": true
   },
   "outputs": [],
   "source": [
    "X.shape[0]"
   ]
  },
  {
   "cell_type": "code",
   "execution_count": null,
   "metadata": {
    "collapsed": true
   },
   "outputs": [],
   "source": [
    "y_pred = []"
   ]
  },
  {
   "cell_type": "code",
   "execution_count": null,
   "metadata": {
    "collapsed": true
   },
   "outputs": [],
   "source": [
    "startIdx = 500\n",
    "for rowIdx in range(startIdx, X.shape[0]-1):\n",
    "#     define train and test set\n",
    "    X_train = X.loc[:rowIdx-1,:]\n",
    "    y_train = y[:rowIdx]\n",
    "    X_test = X.loc[[rowIdx]]\n",
    "    y_test = y[rowIdx]\n",
    "#     print(len(y_train))\n",
    "#     print(X_train.shape)\n",
    "#     print(X_train)\n",
    "#     fit xgb model on training data\n",
    "    rf_online.fit(X_train, y_train)\n",
    "#     make predictions\n",
    "    y_pred.append(rf_online.predict(X_test))\n",
    "#     display progress\n",
    "    if (rowIdx%10==0):\n",
    "        print (rowIdx)"
   ]
  },
  {
   "cell_type": "code",
   "execution_count": null,
   "metadata": {
    "collapsed": true
   },
   "outputs": [],
   "source": [
    "# reshapes\n",
    "y_pred = np.array(y_pred).flatten()\n",
    "y_test = y[501:]"
   ]
  },
  {
   "cell_type": "code",
   "execution_count": null,
   "metadata": {
    "collapsed": true
   },
   "outputs": [],
   "source": [
    "y_pred.shape"
   ]
  },
  {
   "cell_type": "code",
   "execution_count": null,
   "metadata": {
    "collapsed": true
   },
   "outputs": [],
   "source": [
    "y_test.shape"
   ]
  },
  {
   "cell_type": "markdown",
   "metadata": {},
   "source": [
    "#### Running Values"
   ]
  },
  {
   "cell_type": "code",
   "execution_count": null,
   "metadata": {
    "collapsed": true
   },
   "outputs": [],
   "source": [
    "recall_list = []\n",
    "precision_list = []\n",
    "non_error_list = []"
   ]
  },
  {
   "cell_type": "code",
   "execution_count": null,
   "metadata": {
    "collapsed": true
   },
   "outputs": [],
   "source": [
    "def findRates(y_test_cfm, y_pred_cfm):\n",
    "    cfm = confusion_matrix(y_test_cfm, y_pred_cfm)\n",
    "\n",
    "#     print (cfm)\n",
    "    \n",
    "    tp, fp, fn, tn = cfm.ravel()\n",
    "\n",
    "    recall_rate = tp / (tp + fn)\n",
    "    precision_rate = tp / (tp + fp)\n",
    "    error_rate = (fp + fn) / (tp + fp + fn + tn)\n",
    "    non_error_rate = 1 - error_rate\n",
    "    \n",
    "    return [recall_rate, precision_rate, non_error_rate]"
   ]
  },
  {
   "cell_type": "code",
   "execution_count": null,
   "metadata": {
    "collapsed": true
   },
   "outputs": [],
   "source": [
    "for idx in range(y_test.shape[0]-1):\n",
    "    \n",
    "#     print ('idx', idx)\n",
    "#     print ('y_test', str(y_test[:idx+2]))\n",
    "#     print ('y_pred', str(y_pred[:idx+2]))\n",
    "    \n",
    "    accuracy_list = findRates(y_test[:idx+2], y_pred[:idx+2])\n",
    "    \n",
    "    recall_list.append(accuracy_list[0])\n",
    "    precision_list.append(accuracy_list[1])\n",
    "    non_error_list.append(accuracy_list[2])"
   ]
  },
  {
   "cell_type": "code",
   "execution_count": null,
   "metadata": {
    "collapsed": true
   },
   "outputs": [],
   "source": [
    "recall_list = np.array(recall_list).flatten()\n",
    "recall_list.shape"
   ]
  },
  {
   "cell_type": "code",
   "execution_count": null,
   "metadata": {
    "collapsed": true
   },
   "outputs": [],
   "source": [
    "precision_list = np.array(precision_list).flatten()\n",
    "precision_list.shape"
   ]
  },
  {
   "cell_type": "code",
   "execution_count": null,
   "metadata": {
    "collapsed": true
   },
   "outputs": [],
   "source": [
    "non_error_list = np.array(non_error_list).flatten()\n",
    "non_error_list.shape"
   ]
  },
  {
   "cell_type": "markdown",
   "metadata": {},
   "source": [
    "#### Plot results"
   ]
  },
  {
   "cell_type": "code",
   "execution_count": null,
   "metadata": {
    "collapsed": true
   },
   "outputs": [],
   "source": [
    "x_axis = np.arange(1260)"
   ]
  },
  {
   "cell_type": "code",
   "execution_count": null,
   "metadata": {
    "collapsed": true
   },
   "outputs": [],
   "source": [
    "plt.gca().set_color_cycle(['red', 'green', 'blue', 'yellow'])\n",
    "\n",
    "plt.plot(x_axis, recall_list)\n",
    "plt.plot(x_axis, precision_list)\n",
    "plt.plot(x_axis, non_error_list)\n",
    "\n",
    "plt.legend(['recall', 'precision', 'accuracy'], loc='lower right')"
   ]
  },
  {
   "cell_type": "markdown",
   "metadata": {},
   "source": [
    "#### Final Values"
   ]
  },
  {
   "cell_type": "code",
   "execution_count": null,
   "metadata": {
    "collapsed": true
   },
   "outputs": [],
   "source": [
    "confusion_matrix(y_test, y_pred)"
   ]
  },
  {
   "cell_type": "code",
   "execution_count": null,
   "metadata": {
    "collapsed": true
   },
   "outputs": [],
   "source": [
    "accuracy_list = findRates(y_test, y_pred)\n",
    "\n",
    "recall_rate_final = accuracy_list[0]\n",
    "precision_rate_final = accuracy_list[1]\n",
    "error_rate_final = accuracy_list[2]"
   ]
  },
  {
   "cell_type": "code",
   "execution_count": null,
   "metadata": {
    "collapsed": true
   },
   "outputs": [],
   "source": [
    "recall_rate_final"
   ]
  },
  {
   "cell_type": "code",
   "execution_count": null,
   "metadata": {
    "collapsed": true
   },
   "outputs": [],
   "source": [
    "precision_rate_final"
   ]
  },
  {
   "cell_type": "code",
   "execution_count": null,
   "metadata": {
    "collapsed": true
   },
   "outputs": [],
   "source": [
    "1 - error_rate_final"
   ]
  },
  {
   "cell_type": "code",
   "execution_count": null,
   "metadata": {
    "collapsed": true
   },
   "outputs": [],
   "source": [
    "y_pred = y_pred.astype(int)\n",
    "np.savetxt('rf_preds.csv', y_pred, delimiter=',')"
   ]
  },
  {
   "cell_type": "markdown",
   "metadata": {},
   "source": [
    "### Write Output to CSV"
   ]
  },
  {
   "cell_type": "code",
   "execution_count": null,
   "metadata": {
    "collapsed": true
   },
   "outputs": [],
   "source": [
    "# save output\n",
    "ts = time.time()\n",
    "file_name = './CrossValidation/output_xgb_' + datetime.datetime.fromtimestamp(ts).strftime('%H-%M-%S')\n",
    "output_file = open(file_name, 'w')\n",
    "output_file.write('CV results: %s \\n Best index: %s \\n Best score: %s \\n Best params: %s' \n",
    "                  % (grid_result.cv_results_, grid_result.best_index_, \n",
    "                     grid_result.best_score_, grid_result.best_params_))\n",
    "\n",
    "output_file.close()"
   ]
  },
  {
   "cell_type": "markdown",
   "metadata": {},
   "source": [
    "### XGBoost - Fit Model on Training Set"
   ]
  },
  {
   "cell_type": "code",
   "execution_count": null,
   "metadata": {
    "collapsed": true
   },
   "outputs": [],
   "source": [
    "# fit model on auc predictions on entire training dataset\n",
    "xgb_model_final = XGBClassifier(objective='binary:logistic',\n",
    "                                scale_pos_weight=1,nthread=-1,seed=27,\n",
    "                                learning_rate=grid_result.best_params_['learning_rate'], \n",
    "                                n_estimators=grid_result.best_params_['n_estimators'],\n",
    "                                max_depth=grid_result.best_params_['max_depth'], \n",
    "                                min_child_weight=grid_result.best_params_['min_child_weight'],\n",
    "                                gamma=grid_result.best_params_['gamma'],\n",
    "                                subsample=grid_result.best_params_['subsample'], \n",
    "                                colsample_bytree=grid_result.best_params_['colsample_bytree'], \n",
    "                                reg_alpha=grid_result.best_params_['reg_alpha'])\n",
    "\n",
    "xgb_model_final.fit(X_train_split, y_train_split, eval_metric='auc')"
   ]
  },
  {
   "cell_type": "markdown",
   "metadata": {},
   "source": [
    "### Create Confusion Matrix"
   ]
  },
  {
   "cell_type": "code",
   "execution_count": null,
   "metadata": {
    "collapsed": true
   },
   "outputs": [],
   "source": [
    "y_pred_train = xgb_model_final.predict(X_test_split)"
   ]
  },
  {
   "cell_type": "code",
   "execution_count": null,
   "metadata": {
    "collapsed": true
   },
   "outputs": [],
   "source": [
    "cf_matrix = confusion_matrix(y_test_split, y_pred_train)"
   ]
  },
  {
   "cell_type": "code",
   "execution_count": null,
   "metadata": {
    "collapsed": true
   },
   "outputs": [],
   "source": [
    "cf_matrix"
   ]
  },
  {
   "cell_type": "code",
   "execution_count": null,
   "metadata": {
    "collapsed": true
   },
   "outputs": [],
   "source": [
    "true_pos, false_pos, false_neg, true_neg = cf_matrix.ravel()\n",
    "print (\"Fraction incorrect: \", (false_pos+false_neg) / (true_pos+false_pos+false_neg+true_neg))"
   ]
  },
  {
   "cell_type": "code",
   "execution_count": null,
   "metadata": {
    "collapsed": true
   },
   "outputs": [],
   "source": [
    "xgb_model_final.feature_importances_"
   ]
  },
  {
   "cell_type": "code",
   "execution_count": null,
   "metadata": {
    "collapsed": true
   },
   "outputs": [],
   "source": [
    "class_names=['XIV','SPX','Percent-Change','Volume','Vol_30D',\n",
    "          'Impl_vol_50D','Impl_vol_25D','Impl_vol_40D','Impl_vol_75D',\n",
    "          'Vix-Open','VVIX','UX1','UX2','Contango',\n",
    "          'Futures-Percent']"
   ]
  },
  {
   "cell_type": "code",
   "execution_count": null,
   "metadata": {
    "collapsed": true
   },
   "outputs": [],
   "source": [
    "plt.bar(range(len(xgb_online.feature_importances_)), \n",
    "        xgb_online.feature_importances_, color='skyblue')"
   ]
  },
  {
   "cell_type": "code",
   "execution_count": null,
   "metadata": {
    "collapsed": true
   },
   "outputs": [],
   "source": [
    "def plot_confusion_matrix(cm, classes,\n",
    "                          normalize=False,\n",
    "                          title='Confusion matrix',\n",
    "                          cmap=plt.cm.Blues):\n",
    "    \"\"\"\n",
    "    This function prints and plots the confusion matrix.\n",
    "    Normalization can be applied by setting `normalize=True`.\n",
    "    \"\"\"\n",
    "    plt.imshow(cm, interpolation='nearest', cmap=cmap)\n",
    "    plt.title(title)\n",
    "    plt.colorbar()\n",
    "    tick_marks = np.arange(len(classes))\n",
    "    plt.xticks(tick_marks, classes, rotation=45)\n",
    "    plt.yticks(tick_marks, classes)\n",
    "\n",
    "    if normalize:\n",
    "        cm = cm.astype('float') / cm.sum(axis=1)[:, np.newaxis]\n",
    "        print(\"Normalized confusion matrix\")\n",
    "    else:\n",
    "        print('Confusion matrix, without normalization')\n",
    "\n",
    "    print(cm)\n",
    "\n",
    "    thresh = cm.max() / 2.\n",
    "    for i, j in itertools.product(range(cm.shape[0]), range(cm.shape[1])):\n",
    "        plt.text(j, i, int(cm[i, j]*100)/100.0,\n",
    "                 horizontalalignment=\"center\",\n",
    "                 color=\"white\" if cm[i, j] > thresh else \"black\")\n",
    "\n",
    "    plt.tight_layout()\n",
    "    plt.ylabel('True label')\n",
    "    plt.xlabel('Predicted label')"
   ]
  },
  {
   "cell_type": "code",
   "execution_count": null,
   "metadata": {
    "collapsed": true
   },
   "outputs": [],
   "source": [
    "class_names = ['No Spike','Spike']"
   ]
  },
  {
   "cell_type": "code",
   "execution_count": null,
   "metadata": {
    "collapsed": true
   },
   "outputs": [],
   "source": [
    "plot_confusion_matrix(cfm, classes=class_names, normalize=False,\n",
    "                      title='VIX Spike Confusion Matrix for Test Dataset')"
   ]
  },
  {
   "cell_type": "markdown",
   "metadata": {},
   "source": [
    "### XGBoost  - Fit Final Model on all Data"
   ]
  },
  {
   "cell_type": "code",
   "execution_count": null,
   "metadata": {
    "collapsed": true
   },
   "outputs": [],
   "source": [
    "# fit XGB according to best model params\n",
    "xgb_model_final_fit = XGBClassifier(objective='binary:logistic',\n",
    "                                scale_pos_weight=1,nthread=-1,seed=27,\n",
    "                                learning_rate=grid_result.best_params_['learning_rate'], \n",
    "                                n_estimators=grid_result.best_params_['n_estimators'],\n",
    "                                max_depth=grid_result.best_params_['max_depth'], \n",
    "                                min_child_weight=grid_result.best_params_['min_child_weight'],\n",
    "                                gamma=grid_result.best_params_['gamma'],\n",
    "                                subsample=grid_result.best_params_['subsample'], \n",
    "                                colsample_bytree=grid_result.best_params_['colsample_bytree'], \n",
    "                                reg_alpha=grid_result.best_params_['reg_alpha'])\n",
    "\n",
    "xgb_model_final_fit.fit(X, y, eval_metric='auc')"
   ]
  }
 ],
 "metadata": {
  "kernelspec": {
   "display_name": "Python 3",
   "language": "python",
   "name": "python3"
  },
  "language_info": {
   "codemirror_mode": {
    "name": "ipython",
    "version": 3
   },
   "file_extension": ".py",
   "mimetype": "text/x-python",
   "name": "python",
   "nbconvert_exporter": "python",
   "pygments_lexer": "ipython3",
   "version": "3.6.2"
  }
 },
 "nbformat": 4,
 "nbformat_minor": 2
}
